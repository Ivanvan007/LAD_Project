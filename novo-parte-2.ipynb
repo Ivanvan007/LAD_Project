{
 "cells": [
  {
   "cell_type": "code",
   "id": "553135f4e53f4c52",
   "metadata": {
    "collapsed": true,
    "ExecuteTime": {
     "end_time": "2024-06-11T06:41:37.068757Z",
     "start_time": "2024-06-11T06:41:13.019386Z"
    }
   },
   "source": [
    "import pandas as pd\n",
    "import numpy as np\n",
    "from sklearn.model_selection import train_test_split\n",
    "from sklearn.linear_model import LinearRegression, Ridge, Lasso\n",
    "from sklearn.metrics import r2_score, mean_absolute_error, mean_squared_error\n",
    "from sklearn.preprocessing import StandardScaler, OneHotEncoder\n",
    "from sklearn.compose import ColumnTransformer\n",
    "from sklearn.pipeline import Pipeline\n",
    "from sklearn.impute import SimpleImputer\n",
    "from sklearn.svm import SVR\n",
    "from sklearn.neighbors import KNeighborsRegressor\n",
    "from sklearn.tree import DecisionTreeRegressor, plot_tree\n",
    "from sklearn.ensemble import RandomForestRegressor\n",
    "from sklearn.neural_network import MLPRegressor\n",
    "import matplotlib.pyplot as plt\n",
    "\n",
    "# Carregar o dataset\n",
    "data = pd.read_csv('Data/Google-Playstore.csv') #data é um DataFrame\n",
    "\n",
    "# Limitar o dataset a 500.000 linhas\n",
    "data = data.head(5000) #data = data.sample(n=500000, random_state=42) #para uma amostra aleatória #se for para as PRIMEIRAS 500 000 linhas: data = data.head(500000)\n",
    "\n",
    "\n",
    "# Inspecionar os primeiros registros e verificar valores ausentes\n",
    "print(\"Dados iniciais:\")\n",
    "print(data.head())\n",
    "print(data.info())\n",
    "print(\"Valores ausentes antes da imputação:\")\n",
    "print(data.isnull().sum())\n",
    "\n",
    "# Remover linhas onde a variável alvo 'Installs' é nula\n",
    "data = data.dropna(subset=['Installs'])\n",
    "\n",
    "# Converter a coluna 'Installs' para um formato numérico (caso seja necessária)\n",
    "#data['Installs'] = pd.to_numeric(data['Installs'], errors='coerce')\n",
    "# data = data.dropna(subset=['Installs'])\n",
    "\n",
    "# Ver alguns exemplos dos valores na coluna 'Installs' antes da conversão\n",
    "print(\"Exemplos de valores na coluna 'Installs' antes da conversão:\")\n",
    "print(data['Installs'].head(10))\n",
    "\n",
    "\n",
    "\n",
    "# Vamos tratar os dados de 'Installs' para que possamos utilizá-los como variável alvo\n",
    "# Remover caracteres especiais\n",
    "data['Installs'] = data['Installs'].str.replace('[+,]', '', regex=True) #retira os caracteres + e , e substitui por '', ou seja, retira\n",
    "\n",
    "# Verificar se a conversão foi bem sucedida e converter para int\n",
    "data['Installs'] = pd.to_numeric(data['Installs'], errors='coerce').astype('Int64')\n",
    "\n",
    "# Verificar novamente alguns exemplos após a conversão\n",
    "print(\"Exemplos de valores na coluna 'Installs' após a conversão:\")\n",
    "print(data['Installs'].head(10))\n",
    "\n",
    "# Atualizar os valores ausentes após a remoção de linhas\n",
    "print(\"Valores ausentes após remoção de linhas com 'Installs' nulos:\")\n",
    "print(data.isnull().sum())\n",
    "\n",
    "# Preparação dos dados\n",
    "# Suponha que a coluna 'Installs' é a variável alvo e as outras são features\n",
    "X = data.drop(['Installs', 'App Name', 'App Id', 'Developer Website', 'Developer Email', 'Released',\t'Last Updated', 'Content Rating',\t'Privacy Policy', 'Scraped Time'], axis=1)\n",
    "y = data['Installs']\n",
    "\n",
    "# Verificar se ainda existem valores ausentes em y\n",
    "print(f\"Valores ausentes em y: {y.isnull().sum()}\")\n",
    "\n",
    "\n",
    "# Identificar variáveis numéricas e categóricas\n",
    "numerical_features = X.select_dtypes(include=['int64', 'float64']).columns\n",
    "categorical_features = X.select_dtypes(include=['object']).columns\n",
    "\n",
    "# Preprocessamento\n",
    "numerical_transformer = Pipeline(steps=[\n",
    "    ('imputer', SimpleImputer(strategy='mean')),  # Imputação de valores ausentes\n",
    "    ('scaler', StandardScaler())\n",
    "])\n",
    "\n",
    "categorical_transformer = Pipeline(steps=[\n",
    "    ('imputer', SimpleImputer(strategy='constant', fill_value='missing')),  # Imputação de valores ausentes\n",
    "    ('onehot', OneHotEncoder(handle_unknown='ignore'))\n",
    "])\n",
    "\n",
    "preprocessor = ColumnTransformer(\n",
    "    transformers=[\n",
    "        ('num', numerical_transformer, numerical_features),\n",
    "        ('cat', categorical_transformer, categorical_features)\n",
    "    ])\n",
    "\n",
    "# Dividir o dataset em treino e teste\n",
    "X_train, X_test, y_train, y_test = train_test_split(X, y, test_size=0.2, random_state=42)\n",
    "\n",
    "# Função para avaliar o modelo e retornar o pipeline treinado\n",
    "def evaluate_model(name, model, X_train, y_train, X_test, y_test):\n",
    "    '''\n",
    "    As linhas dentro desta função relacionadas com o pipeline, criam e treinam um pipeline\n",
    "    que aplica pré-processamento aos dados (`preprocessor`) e então ajusta o modelo (`model`).\n",
    "    Verificam valores ausentes após a imputação, fazem previsões e avaliam o desempenho do modelo\n",
    "    usando métricas de erro.\n",
    "    '''\n",
    "    # Verificar o tipo de 'y' antes do treinamento\n",
    "    print(f\"Tipo de 'y' (Installs) antes do treino: {y_train.dtype}\")\n",
    "\n",
    "    pipeline = Pipeline(steps=[('preprocessor', preprocessor),\n",
    "                               ('model', model)])  # Aqui é onde o modelo é adicionado ao pipeline e o que o pipeline faz é aplicar o preprocessor e depois o modelo\n",
    "\n",
    "    pipeline.fit(X_train, y_train)\n",
    "    X_train_transformed = pipeline.named_steps['preprocessor'].transform(X_train)\n",
    "    X_test_transformed = pipeline.named_steps['preprocessor'].transform(X_test)\n",
    "    print(f\"Valores ausentes após imputação (treino) para o modelo {name}:\")\n",
    "    print(pd.DataFrame(X_train_transformed).isnull().sum())\n",
    "    y_pred = pipeline.predict(X_test)\n",
    "    r2 = r2_score(y_test, y_pred)\n",
    "    mae = mean_absolute_error(y_test, y_pred)\n",
    "    mse = mean_squared_error(y_test, y_pred)\n",
    "    rmse = np.sqrt(mse)\n",
    "    print(f\"Model: {name}\")\n",
    "    print(f\"R^2: {r2:.4f}\")\n",
    "    print(f\"MAE: {mae:.4f}\")\n",
    "    print(f\"MSE: {mse:.4f}\")\n",
    "    print(f\"RMSE: {rmse:.4f}\\n\")\n",
    "    return pipeline\n",
    "#Imprimir tamanho do dataframe\n",
    "print(\"Tamanho atual do dataframe:\", data.shape)"
   ],
   "outputs": [
    {
     "name": "stdout",
     "output_type": "stream",
     "text": [
      "Dados iniciais:\n",
      "                                            App Name  \\\n",
      "0                                            Gakondo   \n",
      "1                                Ampere Battery Info   \n",
      "2                                             Vibook   \n",
      "3  Smart City Trichy Public Service Vehicles 17UC...   \n",
      "4                                            GROW.me   \n",
      "\n",
      "                       App Id       Category  Rating  Rating Count Installs  \\\n",
      "0         com.ishakwe.gakondo      Adventure     0.0           0.0      10+   \n",
      "1  com.webserveis.batteryinfo          Tools     4.4          64.0   5,000+   \n",
      "2        com.doantiepvien.crm   Productivity     0.0           0.0      50+   \n",
      "3     cst.stJoseph.ug17ucs548  Communication     5.0           5.0      10+   \n",
      "4        com.horodyski.grower          Tools     0.0           0.0     100+   \n",
      "\n",
      "   Minimum Installs  Maximum Installs  Free  Price  ...  \\\n",
      "0              10.0                15  True    0.0  ...   \n",
      "1            5000.0              7662  True    0.0  ...   \n",
      "2              50.0                58  True    0.0  ...   \n",
      "3              10.0                19  True    0.0  ...   \n",
      "4             100.0               478  True    0.0  ...   \n",
      "\n",
      "                  Developer Website              Developer Email  \\\n",
      "0       https://beniyizibyose.tk/#/       jean21101999@gmail.com   \n",
      "1   https://webserveis.netlify.app/         webserveis@gmail.com   \n",
      "2                               NaN          vnacrewit@gmail.com   \n",
      "3  http://www.climatesmarttech.com/  climatesmarttech2@gmail.com   \n",
      "4       http://www.horodyski.com.pl    rmilekhorodyski@gmail.com   \n",
      "\n",
      "       Released  Last Updated Content Rating  \\\n",
      "0  Feb 26, 2020  Feb 26, 2020       Everyone   \n",
      "1  May 21, 2020  May 06, 2021       Everyone   \n",
      "2   Aug 9, 2019  Aug 19, 2019       Everyone   \n",
      "3  Sep 10, 2018  Oct 13, 2018       Everyone   \n",
      "4  Feb 21, 2020  Nov 12, 2018       Everyone   \n",
      "\n",
      "                                      Privacy Policy Ad Supported  \\\n",
      "0                 https://beniyizibyose.tk/projects/        False   \n",
      "1  https://dev4phones.wordpress.com/licencia-de-uso/         True   \n",
      "2  https://www.vietnamairlines.com/vn/en/terms-an...        False   \n",
      "3                                                NaN         True   \n",
      "4                        http://www.horodyski.com.pl        False   \n",
      "\n",
      "  In App Purchases Editors Choice         Scraped Time  \n",
      "0            False          False  2021-06-15 20:19:35  \n",
      "1            False          False  2021-06-15 20:19:35  \n",
      "2            False          False  2021-06-15 20:19:35  \n",
      "3            False          False  2021-06-15 20:19:35  \n",
      "4            False          False  2021-06-15 20:19:35  \n",
      "\n",
      "[5 rows x 24 columns]\n",
      "<class 'pandas.core.frame.DataFrame'>\n",
      "RangeIndex: 5000 entries, 0 to 4999\n",
      "Data columns (total 24 columns):\n",
      " #   Column             Non-Null Count  Dtype  \n",
      "---  ------             --------------  -----  \n",
      " 0   App Name           5000 non-null   object \n",
      " 1   App Id             5000 non-null   object \n",
      " 2   Category           5000 non-null   object \n",
      " 3   Rating             4952 non-null   float64\n",
      " 4   Rating Count       4952 non-null   float64\n",
      " 5   Installs           5000 non-null   object \n",
      " 6   Minimum Installs   5000 non-null   float64\n",
      " 7   Maximum Installs   5000 non-null   int64  \n",
      " 8   Free               5000 non-null   bool   \n",
      " 9   Price              5000 non-null   float64\n",
      " 10  Currency           5000 non-null   object \n",
      " 11  Size               5000 non-null   object \n",
      " 12  Minimum Android    4988 non-null   object \n",
      " 13  Developer Id       5000 non-null   object \n",
      " 14  Developer Website  3334 non-null   object \n",
      " 15  Developer Email    5000 non-null   object \n",
      " 16  Released           4852 non-null   object \n",
      " 17  Last Updated       5000 non-null   object \n",
      " 18  Content Rating     5000 non-null   object \n",
      " 19  Privacy Policy     4103 non-null   object \n",
      " 20  Ad Supported       5000 non-null   bool   \n",
      " 21  In App Purchases   5000 non-null   bool   \n",
      " 22  Editors Choice     5000 non-null   bool   \n",
      " 23  Scraped Time       5000 non-null   object \n",
      "dtypes: bool(4), float64(4), int64(1), object(15)\n",
      "memory usage: 800.9+ KB\n",
      "None\n",
      "Valores ausentes antes da imputação:\n",
      "App Name                0\n",
      "App Id                  0\n",
      "Category                0\n",
      "Rating                 48\n",
      "Rating Count           48\n",
      "Installs                0\n",
      "Minimum Installs        0\n",
      "Maximum Installs        0\n",
      "Free                    0\n",
      "Price                   0\n",
      "Currency                0\n",
      "Size                    0\n",
      "Minimum Android        12\n",
      "Developer Id            0\n",
      "Developer Website    1666\n",
      "Developer Email         0\n",
      "Released              148\n",
      "Last Updated            0\n",
      "Content Rating          0\n",
      "Privacy Policy        897\n",
      "Ad Supported            0\n",
      "In App Purchases        0\n",
      "Editors Choice          0\n",
      "Scraped Time            0\n",
      "dtype: int64\n",
      "Exemplos de valores na coluna 'Installs' antes da conversão:\n",
      "0        10+\n",
      "1     5,000+\n",
      "2        50+\n",
      "3        10+\n",
      "4       100+\n",
      "5        50+\n",
      "6     1,000+\n",
      "7       500+\n",
      "8        10+\n",
      "9    50,000+\n",
      "Name: Installs, dtype: object\n",
      "Exemplos de valores na coluna 'Installs' após a conversão:\n",
      "0       10\n",
      "1     5000\n",
      "2       50\n",
      "3       10\n",
      "4      100\n",
      "5       50\n",
      "6     1000\n",
      "7      500\n",
      "8       10\n",
      "9    50000\n",
      "Name: Installs, dtype: Int64\n",
      "Valores ausentes após remoção de linhas com 'Installs' nulos:\n",
      "App Name                0\n",
      "App Id                  0\n",
      "Category                0\n",
      "Rating                 48\n",
      "Rating Count           48\n",
      "Installs                0\n",
      "Minimum Installs        0\n",
      "Maximum Installs        0\n",
      "Free                    0\n",
      "Price                   0\n",
      "Currency                0\n",
      "Size                    0\n",
      "Minimum Android        12\n",
      "Developer Id            0\n",
      "Developer Website    1666\n",
      "Developer Email         0\n",
      "Released              148\n",
      "Last Updated            0\n",
      "Content Rating          0\n",
      "Privacy Policy        897\n",
      "Ad Supported            0\n",
      "In App Purchases        0\n",
      "Editors Choice          0\n",
      "Scraped Time            0\n",
      "dtype: int64\n",
      "Valores ausentes em y: 0\n",
      "Tamanho atual do dataframe: (5000, 24)\n"
     ]
    }
   ],
   "execution_count": 9
  },
  {
   "metadata": {
    "ExecuteTime": {
     "end_time": "2024-06-11T05:23:11.136647Z",
     "start_time": "2024-06-11T05:23:11.095837Z"
    }
   },
   "cell_type": "code",
   "source": [
    "#Saber informações sobre o dataframe\n",
    "print(\"data.info():\", data.info())\n",
    "#Ter o describe do dataset\n",
    "print(\"data.describe():\", data.describe())\n",
    "#Qual o tipo de dados da coluna 'Installs'\n",
    "print(\"Tipo de dados da coluna 'Installs':\", data['Installs'].dtype)\n",
    "#Imprimir tamanho do dataframe\n",
    "print(\"Tamanho atual do dataframe:\", data.shape)"
   ],
   "id": "2234ecac0b75cafc",
   "outputs": [
    {
     "name": "stdout",
     "output_type": "stream",
     "text": [
      "<class 'pandas.core.frame.DataFrame'>\n",
      "RangeIndex: 5000 entries, 0 to 4999\n",
      "Data columns (total 24 columns):\n",
      " #   Column             Non-Null Count  Dtype  \n",
      "---  ------             --------------  -----  \n",
      " 0   App Name           5000 non-null   object \n",
      " 1   App Id             5000 non-null   object \n",
      " 2   Category           5000 non-null   object \n",
      " 3   Rating             4952 non-null   float64\n",
      " 4   Rating Count       4952 non-null   float64\n",
      " 5   Installs           5000 non-null   Int64  \n",
      " 6   Minimum Installs   5000 non-null   float64\n",
      " 7   Maximum Installs   5000 non-null   int64  \n",
      " 8   Free               5000 non-null   bool   \n",
      " 9   Price              5000 non-null   float64\n",
      " 10  Currency           5000 non-null   object \n",
      " 11  Size               5000 non-null   object \n",
      " 12  Minimum Android    4988 non-null   object \n",
      " 13  Developer Id       5000 non-null   object \n",
      " 14  Developer Website  3334 non-null   object \n",
      " 15  Developer Email    5000 non-null   object \n",
      " 16  Released           4852 non-null   object \n",
      " 17  Last Updated       5000 non-null   object \n",
      " 18  Content Rating     5000 non-null   object \n",
      " 19  Privacy Policy     4103 non-null   object \n",
      " 20  Ad Supported       5000 non-null   bool   \n",
      " 21  In App Purchases   5000 non-null   bool   \n",
      " 22  Editors Choice     5000 non-null   bool   \n",
      " 23  Scraped Time       5000 non-null   object \n",
      "dtypes: Int64(1), bool(4), float64(4), int64(1), object(14)\n",
      "memory usage: 805.8+ KB\n",
      "data.info(): None\n",
      "data.describe():             Rating  Rating Count        Installs  Minimum Installs  \\\n",
      "count  4952.000000  4.952000e+03          5000.0      5.000000e+03   \n",
      "mean      2.162338  1.365781e+03     109826.8886      1.098269e+05   \n",
      "std       2.108503  2.517909e+04  2086729.721971      2.086730e+06   \n",
      "min       0.000000  0.000000e+00             0.0      0.000000e+00   \n",
      "25%       0.000000  0.000000e+00            50.0      5.000000e+01   \n",
      "50%       2.700000  6.000000e+00           500.0      5.000000e+02   \n",
      "75%       4.300000  4.000000e+01          5000.0      5.000000e+03   \n",
      "max       5.000000  1.264773e+06     100000000.0      1.000000e+08   \n",
      "\n",
      "       Maximum Installs        Price  \n",
      "count      5.000000e+03  5000.000000  \n",
      "mean       1.685598e+05     0.108861  \n",
      "std        2.557100e+06     1.813175  \n",
      "min        0.000000e+00     0.000000  \n",
      "25%        7.500000e+01     0.000000  \n",
      "50%        6.375000e+02     0.000000  \n",
      "75%        6.845000e+03     0.000000  \n",
      "max        1.254455e+08    99.990000  \n",
      "Tipo de dados da coluna 'Installs': Int64\n",
      "Tamanho atual do dataframe: (5000, 24)\n"
     ]
    }
   ],
   "execution_count": 2
  },
  {
   "metadata": {
    "ExecuteTime": {
     "end_time": "2024-06-11T06:41:42.799275Z",
     "start_time": "2024-06-11T06:41:42.139778Z"
    }
   },
   "cell_type": "code",
   "source": [
    "# Avaliar modelo e obter o pipeline treinado\n",
    "pipeline = evaluate_model('Linear Regression', LinearRegression(), X_train, y_train, X_test, y_test)\n",
    "#Imprimir tamanho do dataframe\n",
    "print(\"Tamanho atual do dataframe:\", data.shape)"
   ],
   "id": "initial_id",
   "outputs": [
    {
     "name": "stdout",
     "output_type": "stream",
     "text": [
      "Tipo de 'y' (Installs) antes do treino: Int64\n",
      "Valores ausentes após imputação (treino) para o modelo Linear Regression:\n",
      "0    0\n",
      "dtype: int64\n",
      "Model: Linear Regression\n",
      "R^2: 1.0000\n",
      "MAE: 517.2016\n",
      "MSE: 2785640.3466\n",
      "RMSE: 1669.0238\n",
      "\n",
      "Tamanho atual do dataframe: (5000, 24)\n"
     ]
    }
   ],
   "execution_count": 10
  },
  {
   "metadata": {
    "ExecuteTime": {
     "end_time": "2024-06-11T06:41:52.897763Z",
     "start_time": "2024-06-11T06:41:52.869315Z"
    }
   },
   "cell_type": "code",
   "source": [
    "# Carregar o ficheiro CSV da nova app\n",
    "new_app_df = pd.read_csv('new_app.csv')  # Substitua 'path/to/' pelo caminho correto do seu ficheiro CSV\n",
    "\n",
    "# Remover colunas não presentes nos dados de treino\n",
    "new_app_df = new_app_df[X.columns]\n",
    "\n",
    "# Função para prever a variável alvo para uma nova app\n",
    "def predict_new_app(pipeline, new_app):\n",
    "    # Preprocessar a nova app\n",
    "    new_app_transformed = pipeline.named_steps['preprocessor'].transform(new_app)\n",
    "    # Prever a variável alvo\n",
    "    prediction = pipeline.named_steps['model'].predict(new_app_transformed)\n",
    "    return prediction\n",
    "\n",
    "# Fazer a previsão utilizando o pipeline treinado anteriormente\n",
    "prediction = predict_new_app(pipeline, new_app_df)\n",
    "print(f\"Previsão de 'Installs' para a nova app 'Gakondo': {prediction[0]:.0f}\")\n",
    "#Imprimir tamanho do dataframe\n",
    "print(\"Tamanho atual do dataframe:\", data.shape)"
   ],
   "id": "a5f64d6a6eafe244",
   "outputs": [
    {
     "name": "stdout",
     "output_type": "stream",
     "text": [
      "Previsão de 'Installs' para a nova app 'Gakondo': -534\n",
      "Tamanho atual do dataframe: (5000, 24)\n"
     ]
    }
   ],
   "execution_count": 11
  },
  {
   "metadata": {
    "ExecuteTime": {
     "end_time": "2024-06-11T05:23:12.262802Z",
     "start_time": "2024-06-11T05:23:11.806680Z"
    }
   },
   "cell_type": "code",
   "source": [
    "# Avaliar modelo\n",
    "pipeline = evaluate_model('Ridge Regression', Ridge(alpha=1.0), X_train, y_train, X_test, y_test)\n",
    "#Imprimir tamanho do dataframe\n",
    "print(\"Tamanho atual do dataframe:\", data.shape)"
   ],
   "id": "9b00feaaf0698fd5",
   "outputs": [
    {
     "name": "stdout",
     "output_type": "stream",
     "text": [
      "Tipo de 'y' (Installs) antes do treino: Int64\n",
      "Valores ausentes após imputação (treino) para o modelo Ridge Regression:\n",
      "0    0\n",
      "dtype: int64\n",
      "Model: Ridge Regression\n",
      "R^2: 0.9996\n",
      "MAE: 5290.5870\n",
      "MSE: 193365978.0435\n",
      "RMSE: 13905.6096\n",
      "\n",
      "Tamanho atual do dataframe: (5000, 24)\n"
     ]
    }
   ],
   "execution_count": 5
  },
  {
   "metadata": {
    "ExecuteTime": {
     "end_time": "2024-06-11T05:23:24.352899Z",
     "start_time": "2024-06-11T05:23:12.267801Z"
    }
   },
   "cell_type": "code",
   "source": [
    "# Avaliar modelo\n",
    "pipeline = evaluate_model('Lasso Regression', Lasso(alpha=1.0), X_train, y_train, X_test, y_test)\n",
    "#Imprimir tamanho do dataframe\n",
    "print(\"Tamanho atual do dataframe:\", data.shape)"
   ],
   "id": "9c4295c9ae9a6cd6",
   "outputs": [
    {
     "name": "stdout",
     "output_type": "stream",
     "text": [
      "Tipo de 'y' (Installs) antes do treino: Int64\n",
      "Valores ausentes após imputação (treino) para o modelo Lasso Regression:\n",
      "0    0\n",
      "dtype: int64\n",
      "Model: Lasso Regression\n",
      "R^2: 0.4571\n",
      "MAE: 59703.0380\n",
      "MSE: 233927814534.6151\n",
      "RMSE: 483660.8466\n",
      "\n",
      "Tamanho atual do dataframe: (5000, 24)\n"
     ]
    }
   ],
   "execution_count": 6
  },
  {
   "metadata": {
    "ExecuteTime": {
     "end_time": "2024-06-11T05:23:27.342197Z",
     "start_time": "2024-06-11T05:23:24.353928Z"
    }
   },
   "cell_type": "code",
   "source": [
    "# Avaliar modelo\n",
    "pipeline = evaluate_model('SVR (linear kernel)', SVR(kernel='linear'), X_train, y_train, X_test, y_test)\n",
    "#Imprimir tamanho do dataframe\n",
    "print(\"Tamanho atual do dataframe:\", data.shape)"
   ],
   "id": "c845c3ef46a316eb",
   "outputs": [
    {
     "name": "stdout",
     "output_type": "stream",
     "text": [
      "Tipo de 'y' (Installs) antes do treino: Int64\n",
      "Valores ausentes após imputação (treino) para o modelo SVR (linear kernel):\n",
      "0    0\n",
      "dtype: int64\n",
      "Model: SVR (linear kernel)\n",
      "R^2: -0.0137\n",
      "MAE: 78970.9378\n",
      "MSE: 436798401022.8536\n",
      "RMSE: 660907.2560\n",
      "\n",
      "Tamanho atual do dataframe: (5000, 24)\n"
     ]
    }
   ],
   "execution_count": 7
  },
  {
   "metadata": {
    "ExecuteTime": {
     "end_time": "2024-06-11T05:23:30.464469Z",
     "start_time": "2024-06-11T05:23:27.344242Z"
    }
   },
   "cell_type": "code",
   "source": [
    "# Avaliar modelo\n",
    "pipeline = evaluate_model('SVR (rbf kernel)', SVR(kernel='rbf'), X_train, y_train, X_test, y_test)\n",
    "#Imprimir tamanho do dataframe\n",
    "print(\"Tamanho atual do dataframe:\", data.shape)"
   ],
   "id": "3b7d7fb55f1b161d",
   "outputs": [
    {
     "name": "stdout",
     "output_type": "stream",
     "text": [
      "Tipo de 'y' (Installs) antes do treino: Int64\n",
      "Valores ausentes após imputação (treino) para o modelo SVR (rbf kernel):\n",
      "0    0\n",
      "dtype: int64\n",
      "Model: SVR (rbf kernel)\n",
      "R^2: -0.0144\n",
      "MAE: 79186.5028\n",
      "MSE: 437124601609.3467\n",
      "RMSE: 661153.9924\n",
      "\n",
      "Tamanho atual do dataframe: (5000, 24)\n"
     ]
    }
   ],
   "execution_count": 8
  },
  {
   "metadata": {
    "ExecuteTime": {
     "end_time": "2024-06-11T05:23:32.210875Z",
     "start_time": "2024-06-11T05:23:30.466469Z"
    }
   },
   "cell_type": "code",
   "source": [
    "# Avaliar modelo\n",
    "pipeline = evaluate_model('K-NN', KNeighborsRegressor(n_neighbors=5), X_train, y_train, X_test, y_test)\n",
    "#Imprimir tamanho do dataframe\n",
    "print(\"Tamanho atual do dataframe:\", data.shape)"
   ],
   "id": "aef3f4ad9361d55b",
   "outputs": [
    {
     "name": "stdout",
     "output_type": "stream",
     "text": [
      "Tipo de 'y' (Installs) antes do treino: Int64\n",
      "Valores ausentes após imputação (treino) para o modelo K-NN:\n",
      "0    0\n",
      "dtype: int64\n",
      "Model: K-NN\n",
      "R^2: 0.9543\n",
      "MAE: 31270.2516\n",
      "MSE: 19684300172.5625\n",
      "RMSE: 140300.7490\n",
      "\n",
      "Tamanho atual do dataframe: (5000, 24)\n"
     ]
    }
   ],
   "execution_count": 9
  },
  {
   "metadata": {
    "ExecuteTime": {
     "end_time": "2024-06-11T06:42:06.816014Z",
     "start_time": "2024-06-11T06:42:06.477682Z"
    }
   },
   "cell_type": "code",
   "source": [
    "# Avaliar modelo\n",
    "pipeline = evaluate_model('Decision Tree', DecisionTreeRegressor(), X_train, y_train, X_test, y_test)\n",
    "#Imprimir tamanho do dataframe\n",
    "print(\"Tamanho atual do dataframe:\", data.shape)"
   ],
   "id": "8cdc9190d7fc24a8",
   "outputs": [
    {
     "name": "stdout",
     "output_type": "stream",
     "text": [
      "Tipo de 'y' (Installs) antes do treino: Int64\n",
      "Valores ausentes após imputação (treino) para o modelo Decision Tree:\n",
      "0    0\n",
      "dtype: int64\n",
      "Model: Decision Tree\n",
      "R^2: 0.9416\n",
      "MAE: 5400.0000\n",
      "MSE: 25160000000.0000\n",
      "RMSE: 158619.0405\n",
      "\n",
      "Tamanho atual do dataframe: (5000, 24)\n"
     ]
    }
   ],
   "execution_count": 12
  },
  {
   "metadata": {
    "ExecuteTime": {
     "end_time": "2024-06-11T06:57:56.197059Z",
     "start_time": "2024-06-11T06:57:56.153778Z"
    }
   },
   "cell_type": "code",
   "source": [
    "# Visualizar a árvore de decisão\n",
    "# Importar funções para plotagem de árvores de decisão\n",
    "from sklearn.tree import plot_tree\n",
    "\n",
    "# Extrair o modelo treinado do pipeline\n",
    "decision_tree_model = pipeline.named_steps['model']\n",
    "\n",
    "# Plotar a árvore de decisão\n",
    "plt.figure(figsize=(20, 10))\n",
    "plot_tree(decision_tree_model, feature_names=X.columns, filled=True, rounded=True, fontsize=10)\n",
    "plt.title(\"Árvore de Decisão\")\n",
    "plt.show()\n",
    "\n",
    "\n",
    "# Visualizar uma árvore do Random Forest"
   ],
   "id": "ef9ecc406b79baf0",
   "outputs": [
    {
     "ename": "AttributeError",
     "evalue": "'DecisionTreeRegressor' object has no attribute 'named_steps'",
     "output_type": "error",
     "traceback": [
      "\u001B[1;31m---------------------------------------------------------------------------\u001B[0m",
      "\u001B[1;31mAttributeError\u001B[0m                            Traceback (most recent call last)",
      "Cell \u001B[1;32mIn[25], line 6\u001B[0m\n\u001B[0;32m      3\u001B[0m \u001B[38;5;28;01mfrom\u001B[39;00m \u001B[38;5;21;01msklearn\u001B[39;00m\u001B[38;5;21;01m.\u001B[39;00m\u001B[38;5;21;01mtree\u001B[39;00m \u001B[38;5;28;01mimport\u001B[39;00m plot_tree\n\u001B[0;32m      5\u001B[0m \u001B[38;5;66;03m# Extrair o modelo treinado do pipeline\u001B[39;00m\n\u001B[1;32m----> 6\u001B[0m decision_tree_model \u001B[38;5;241m=\u001B[39m pipeline\u001B[38;5;241m.\u001B[39mnamed_steps[\u001B[38;5;124m'\u001B[39m\u001B[38;5;124mmodel\u001B[39m\u001B[38;5;124m'\u001B[39m]\n\u001B[0;32m      8\u001B[0m \u001B[38;5;66;03m# Plotar a árvore de decisão\u001B[39;00m\n\u001B[0;32m      9\u001B[0m plt\u001B[38;5;241m.\u001B[39mfigure(figsize\u001B[38;5;241m=\u001B[39m(\u001B[38;5;241m20\u001B[39m, \u001B[38;5;241m10\u001B[39m))\n",
      "\u001B[1;31mAttributeError\u001B[0m: 'DecisionTreeRegressor' object has no attribute 'named_steps'"
     ]
    }
   ],
   "execution_count": 25
  },
  {
   "metadata": {
    "ExecuteTime": {
     "end_time": "2024-06-11T05:23:54.594965Z",
     "start_time": "2024-06-11T05:23:33.096753Z"
    }
   },
   "cell_type": "code",
   "source": [
    "# Avaliar modelo\n",
    "pipeline = evaluate_model('Random Forest', RandomForestRegressor(), X_train, y_train, X_test, y_test)\n",
    "#Imprimir tamanho do dataframe\n",
    "print(\"Tamanho atual do dataframe:\", data.shape)"
   ],
   "id": "891db0a285950ffe",
   "outputs": [
    {
     "name": "stdout",
     "output_type": "stream",
     "text": [
      "Tipo de 'y' (Installs) antes do treino: Int64\n",
      "Valores ausentes após imputação (treino) para o modelo Random Forest:\n",
      "0    0\n",
      "dtype: int64\n",
      "Model: Random Forest\n",
      "R^2: 0.9826\n",
      "MAE: 4275.0610\n",
      "MSE: 7485284815.6010\n",
      "RMSE: 86517.5405\n",
      "\n",
      "Tamanho atual do dataframe: (5000, 24)\n"
     ]
    }
   ],
   "execution_count": 11
  },
  {
   "metadata": {
    "ExecuteTime": {
     "end_time": "2024-06-11T06:58:54.609072Z",
     "start_time": "2024-06-11T06:58:54.575908Z"
    }
   },
   "cell_type": "code",
   "source": [
    "# Extrair o modelo Random Forest treinado do pipeline\n",
    "random_forest_model = pipeline.named_steps['model']\n",
    "\n",
    "# Selecionar uma árvore do Random Forest\n",
    "estimator = random_forest_model.estimators_[0]\n",
    "\n",
    "# Plotar a árvore do Random Forest\n",
    "plt.figure(figsize=(20, 10))\n",
    "plot_tree(estimator, feature_names=X.columns, filled=True, rounded=True, fontsize=10)\n",
    "plt.title(\"Uma Árvore do Random Forest\")\n",
    "plt.show()"
   ],
   "id": "e370bf6a787af41",
   "outputs": [
    {
     "ename": "AttributeError",
     "evalue": "'DecisionTreeRegressor' object has no attribute 'named_steps'",
     "output_type": "error",
     "traceback": [
      "\u001B[1;31m---------------------------------------------------------------------------\u001B[0m",
      "\u001B[1;31mAttributeError\u001B[0m                            Traceback (most recent call last)",
      "Cell \u001B[1;32mIn[26], line 2\u001B[0m\n\u001B[0;32m      1\u001B[0m \u001B[38;5;66;03m# Extrair o modelo Random Forest treinado do pipeline\u001B[39;00m\n\u001B[1;32m----> 2\u001B[0m random_forest_model \u001B[38;5;241m=\u001B[39m pipeline\u001B[38;5;241m.\u001B[39mnamed_steps[\u001B[38;5;124m'\u001B[39m\u001B[38;5;124mmodel\u001B[39m\u001B[38;5;124m'\u001B[39m]\n\u001B[0;32m      4\u001B[0m \u001B[38;5;66;03m# Selecionar uma árvore do Random Forest\u001B[39;00m\n\u001B[0;32m      5\u001B[0m estimator \u001B[38;5;241m=\u001B[39m random_forest_model\u001B[38;5;241m.\u001B[39mestimators_[\u001B[38;5;241m0\u001B[39m]\n",
      "\u001B[1;31mAttributeError\u001B[0m: 'DecisionTreeRegressor' object has no attribute 'named_steps'"
     ]
    }
   ],
   "execution_count": 26
  },
  {
   "metadata": {
    "ExecuteTime": {
     "end_time": "2024-06-11T05:30:19.277409Z",
     "start_time": "2024-06-11T05:23:54.609247Z"
    }
   },
   "cell_type": "code",
   "source": [
    "# Avaliar modelo\n",
    "pipeline = evaluate_model('Neural Network (single layer)', MLPRegressor(hidden_layer_sizes=(10,), max_iter=1000), X_train, y_train, X_test, y_test)\n",
    "#Imprimir tamanho do dataframe\n",
    "print(\"Tamanho atual do dataframe:\", data.shape)"
   ],
   "id": "415b8142467dd81",
   "outputs": [
    {
     "name": "stdout",
     "output_type": "stream",
     "text": [
      "Tipo de 'y' (Installs) antes do treino: Int64\n"
     ]
    },
    {
     "name": "stderr",
     "output_type": "stream",
     "text": [
      "C:\\Users\\utilizador\\anaconda3\\Lib\\site-packages\\sklearn\\neural_network\\_multilayer_perceptron.py:686: ConvergenceWarning: Stochastic Optimizer: Maximum iterations (1000) reached and the optimization hasn't converged yet.\n",
      "  warnings.warn(\n"
     ]
    },
    {
     "name": "stdout",
     "output_type": "stream",
     "text": [
      "Valores ausentes após imputação (treino) para o modelo Neural Network (single layer):\n",
      "0    0\n",
      "dtype: int64\n",
      "Model: Neural Network (single layer)\n",
      "R^2: -0.0115\n",
      "MAE: 80125.5422\n",
      "MSE: 435861744046.7428\n",
      "RMSE: 660198.2612\n",
      "\n",
      "Tamanho atual do dataframe: (5000, 24)\n"
     ]
    }
   ],
   "execution_count": 13
  },
  {
   "metadata": {
    "ExecuteTime": {
     "end_time": "2024-06-11T06:00:59.781106Z",
     "start_time": "2024-06-11T05:30:19.279407Z"
    }
   },
   "cell_type": "code",
   "source": [
    "# Avaliar modelo\n",
    "pipeline = evaluate_model('Neural Network (multi layer)', MLPRegressor(hidden_layer_sizes=(100, 50), max_iter=1000), X_train, y_train, X_test, y_test)\n",
    "#Imprimir tamanho do dataframe\n",
    "print(\"Tamanho atual do dataframe:\", data.shape)"
   ],
   "id": "60620f6c63d086f7",
   "outputs": [
    {
     "name": "stdout",
     "output_type": "stream",
     "text": [
      "Tipo de 'y' (Installs) antes do treino: Int64\n"
     ]
    },
    {
     "name": "stderr",
     "output_type": "stream",
     "text": [
      "C:\\Users\\utilizador\\anaconda3\\Lib\\site-packages\\sklearn\\neural_network\\_multilayer_perceptron.py:693: UserWarning: Training interrupted by user.\n",
      "  warnings.warn(\"Training interrupted by user.\")\n"
     ]
    },
    {
     "name": "stdout",
     "output_type": "stream",
     "text": [
      "Valores ausentes após imputação (treino) para o modelo Neural Network (multi layer):\n",
      "0    0\n",
      "dtype: int64\n",
      "Model: Neural Network (multi layer)\n",
      "R^2: 0.6748\n",
      "MAE: 257061.0735\n",
      "MSE: 140127256270.8011\n",
      "RMSE: 374335.7534\n",
      "\n",
      "Tamanho atual do dataframe: (5000, 24)\n"
     ]
    }
   ],
   "execution_count": 14
  }
 ],
 "metadata": {
  "kernelspec": {
   "display_name": "Python 3",
   "language": "python",
   "name": "python3"
  },
  "language_info": {
   "codemirror_mode": {
    "name": "ipython",
    "version": 2
   },
   "file_extension": ".py",
   "mimetype": "text/x-python",
   "name": "python",
   "nbconvert_exporter": "python",
   "pygments_lexer": "ipython2",
   "version": "2.7.6"
  }
 },
 "nbformat": 4,
 "nbformat_minor": 5
}
