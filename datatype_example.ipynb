{
 "cells": [
  {
   "cell_type": "code",
   "id": "initial_id",
   "metadata": {
    "collapsed": true,
    "ExecuteTime": {
     "end_time": "2024-06-11T22:05:58.193763Z",
     "start_time": "2024-06-11T22:05:58.174507Z"
    }
   },
   "source": [
    "numero = 4.499999999999999\n",
    "numero_str = str(numero)\n",
    "ponto = numero_str.find('.')\n",
    "numero_truncado_str = numero_str[:ponto + 2]\n",
    "numero_truncado = float(numero_truncado_str)\n",
    "print(numero_truncado)  # Output: 4.3"
   ],
   "outputs": [
    {
     "name": "stdout",
     "output_type": "stream",
     "text": [
      "4.4\n"
     ]
    }
   ],
   "execution_count": 1
  },
  {
   "metadata": {
    "ExecuteTime": {
     "end_time": "2024-06-11T22:06:09.674626Z",
     "start_time": "2024-06-11T22:06:09.664226Z"
    }
   },
   "cell_type": "code",
   "source": "type(numero_truncado)  # Output: float",
   "id": "21a0655b897570dc",
   "outputs": [
    {
     "data": {
      "text/plain": [
       "float"
      ]
     },
     "execution_count": 2,
     "metadata": {},
     "output_type": "execute_result"
    }
   ],
   "execution_count": 2
  }
 ],
 "metadata": {
  "kernelspec": {
   "display_name": "Python 3",
   "language": "python",
   "name": "python3"
  },
  "language_info": {
   "codemirror_mode": {
    "name": "ipython",
    "version": 2
   },
   "file_extension": ".py",
   "mimetype": "text/x-python",
   "name": "python",
   "nbconvert_exporter": "python",
   "pygments_lexer": "ipython2",
   "version": "2.7.6"
  }
 },
 "nbformat": 4,
 "nbformat_minor": 5
}
