{
 "cells": [
  {
   "cell_type": "code",
   "id": "ae3d6661f054b6ee",
   "metadata": {
    "collapsed": true,
    "ExecuteTime": {
     "end_time": "2024-06-14T19:21:27.224115Z",
     "start_time": "2024-06-14T19:21:24.829116Z"
    }
   },
   "source": [
    "import pandas as pd\n",
    "import numpy as np\n",
    "from sklearn.model_selection import train_test_split\n",
    "from sklearn.linear_model import LinearRegression, Ridge, Lasso, LogisticRegression\n",
    "from sklearn.cluster import KMeans\n",
    "from sklearn.metrics import r2_score, mean_absolute_error, mean_squared_error\n",
    "from sklearn.preprocessing import StandardScaler, OneHotEncoder, LabelEncoder\n",
    "from sklearn.compose import ColumnTransformer\n",
    "from sklearn.pipeline import Pipeline\n",
    "from sklearn.impute import SimpleImputer\n",
    "from sklearn.svm import SVR\n",
    "from sklearn.neighbors import KNeighborsRegressor\n",
    "from sklearn.tree import DecisionTreeRegressor, plot_tree, export_graphviz\n",
    "from sklearn.ensemble import RandomForestRegressor\n",
    "from sklearn.neural_network import MLPRegressor\n",
    "from sklearn.decomposition import PCA\n",
    "import matplotlib.pyplot as plt\n",
    "import os\n",
    "import joblib\n",
    "\n",
    "# Carregar o dataset\n",
    "data = pd.read_csv('Data/Google-Playstore.csv', nrows=8000)\n",
    "\n",
    "# Remover colunas indesejadas\n",
    "data = data.drop(['App Name', 'App Id', 'Minimum Installs', 'Maximum Installs', 'Currency',\n",
    "                  'Developer Id', 'Developer Website', 'Developer Email', 'Released',\n",
    "                  'Last Updated', 'Privacy Policy', 'Scraped Time'], axis=1)\n",
    "\n",
    "# Remover linhas onde a variável alvo 'Installs' é nula\n",
    "data = data.dropna(subset=['Installs'])\n",
    "\n",
    "# Tratar a coluna 'Installs'\n",
    "data['Installs'] = data['Installs'].str.replace('[+,]', '', regex=True)\n",
    "data['Installs'] = pd.to_numeric(data['Installs'], errors='coerce').astype('Int64')\n",
    "\n",
    "def handle_missing_values(df):\n",
    "    df['Category'].fillna(df['Category'].mode()[0], inplace=True)\n",
    "    df['Rating'].fillna(df['Rating'].mean(), inplace=True)\n",
    "    df['Rating Count'].fillna(df['Rating Count'].mean(), inplace=True)\n",
    "    df['Free'].fillna(True, inplace=True)\n",
    "    df['Price'].fillna(0.0, inplace=True)\n",
    "    df['Size'] = df['Size'].apply(size_to_mb)\n",
    "    df['Size'].fillna(df['Size'].mean(), inplace=True)\n",
    "    df['Minimum Android'].fillna(df['Minimum Android'].mode()[0], inplace=True)\n",
    "    df['Content Rating'].fillna(df['Content Rating'].mode()[0], inplace=True)\n",
    "    df['Ad Supported'].fillna(True, inplace=True)\n",
    "    df['In App Purchases'].fillna(False, inplace=True)\n",
    "    df['Editors Choice'].fillna(False, inplace=True)\n",
    "\n",
    "def size_to_mb(size):\n",
    "    if pd.isna(size):\n",
    "        return np.nan\n",
    "    if isinstance(size, str):\n",
    "        if 'M' in size or 'm' in size:\n",
    "            return float(size.replace('M', '').replace('m', '').replace(',', '.'))\n",
    "        elif 'K' in size or 'k' in size:\n",
    "            return float(size.replace('K', '').replace('k', '').replace(',', '.')) / 1024\n",
    "        elif 'G' in size or 'g' in size:\n",
    "            return float(size.replace('G', '').replace('g', '').replace(',', '.')) * 1024\n",
    "    return np.nan\n",
    "\n",
    "def parse_android_version(version):\n",
    "    if pd.isna(version):\n",
    "        return np.nan\n",
    "    if 'Varies with device' in version:\n",
    "        return np.nan\n",
    "    if 'and up' in version:\n",
    "        version = version.replace('and up', '').strip()\n",
    "    if '-' in version:\n",
    "        version = version.split('-')[0].strip()\n",
    "    version = version.replace('W', '').strip()\n",
    "    try:\n",
    "        return float(version)\n",
    "    except ValueError:\n",
    "        return np.nan\n",
    "\n",
    "handle_missing_values(data)\n",
    "data['Minimum Android'] = data['Minimum Android'].apply(parse_android_version)\n",
    "mean_android_version = data['Minimum Android'].mean()\n",
    "data['Minimum Android'].fillna(mean_android_version, inplace=True)\n",
    "\n",
    "data['Rating Count'] = data['Rating Count'].astype(int)\n",
    "data['Minimum Android'] = [int(x * 10) / 10 for x in data['Minimum Android']]\n",
    "\n",
    "label_encoder_category = LabelEncoder()\n",
    "label_encoder_content_rating = LabelEncoder()\n",
    "data['Category'] = label_encoder_category.fit_transform(data['Category'])\n",
    "category_mapping = dict(zip(label_encoder_category.classes_, label_encoder_category.transform(label_encoder_category.classes_)))\n",
    "data['Content Rating'] = label_encoder_content_rating.fit_transform(data['Content Rating'])\n",
    "content_mapping = dict(zip(label_encoder_content_rating.classes_, label_encoder_content_rating.transform(label_encoder_content_rating.classes_)))\n",
    "\n",
    "# Preparação dos dados\n",
    "X = data[['Category', 'Rating','Rating Count', 'Free','Price','Size','Minimum Android','Content Rating', 'Ad Supported','In App Purchases','Editors Choice']]\n",
    "y = data['Installs']\n",
    "\n",
    "# Dividir o dataset em treino e teste\n",
    "X_train, X_test, y_train, y_test = train_test_split(X, y, test_size=0.2, random_state=42)\n",
    "\n",
    "# Função para avaliar o modelo\n",
    "def evaluate_model(name, model, X_train, y_train, X_test, y_test):\n",
    "    model.fit(X_train, y_train)\n",
    "    y_pred = model.predict(X_test)\n",
    "    r2 = r2_score(y_test, y_pred)\n",
    "    mae = mean_absolute_error(y_test, y_pred)\n",
    "    mse = mean_squared_error(y_test, y_pred)\n",
    "    rmse = np.sqrt(mse)\n",
    "    print(f\"Model: {name}\")\n",
    "    print(f\"R^2: {r2:.4f}\")\n",
    "    print(f\"MAE: {mae:.4f}\")\n",
    "    print(f\"MSE: {mse:.4f}\")\n",
    "    print(f\"RMSE: {rmse:.4f}\\n\")\n",
    "    return model"
   ],
   "outputs": [],
   "execution_count": 1
  },
  {
   "metadata": {
    "ExecuteTime": {
     "end_time": "2024-06-14T19:21:27.234226Z",
     "start_time": "2024-06-14T19:21:27.229110Z"
    }
   },
   "cell_type": "code",
   "source": "models = {}",
   "id": "565be55f18907272",
   "outputs": [],
   "execution_count": 2
  },
  {
   "metadata": {
    "ExecuteTime": {
     "end_time": "2024-06-14T19:21:27.287942Z",
     "start_time": "2024-06-14T19:21:27.236229Z"
    }
   },
   "cell_type": "code",
   "source": "models['Linear Regression'] = evaluate_model('Linear Regression', LinearRegression(), X_train, y_train, X_test, y_test)",
   "id": "dc450a653414eb8d",
   "outputs": [
    {
     "name": "stdout",
     "output_type": "stream",
     "text": [
      "Model: Linear Regression\n",
      "R^2: 0.8082\n",
      "MAE: 117632.8104\n",
      "MSE: 1271974794872.7822\n",
      "RMSE: 1127818.6002\n",
      "\n"
     ]
    }
   ],
   "execution_count": 3
  },
  {
   "metadata": {
    "ExecuteTime": {
     "end_time": "2024-06-14T19:21:27.310056Z",
     "start_time": "2024-06-14T19:21:27.290943Z"
    }
   },
   "cell_type": "code",
   "source": "models['Ridge Regression'] = evaluate_model('Ridge Regression', Ridge(alpha=1.0), X_train, y_train, X_test, y_test)",
   "id": "9860446b3149716",
   "outputs": [
    {
     "name": "stdout",
     "output_type": "stream",
     "text": [
      "Model: Ridge Regression\n",
      "R^2: 0.8077\n",
      "MAE: 117664.6380\n",
      "MSE: 1275302173360.7019\n",
      "RMSE: 1129292.7757\n",
      "\n"
     ]
    }
   ],
   "execution_count": 4
  },
  {
   "metadata": {
    "ExecuteTime": {
     "end_time": "2024-06-14T19:21:27.333482Z",
     "start_time": "2024-06-14T19:21:27.312565Z"
    }
   },
   "cell_type": "code",
   "source": "models['Lasso Regression'] = evaluate_model('Lasso Regression', Lasso(alpha=1.0), X_train, y_train, X_test, y_test)",
   "id": "d927e3cc01faff57",
   "outputs": [
    {
     "name": "stdout",
     "output_type": "stream",
     "text": [
      "Model: Lasso Regression\n",
      "R^2: 0.8082\n",
      "MAE: 117631.3781\n",
      "MSE: 1271995020528.5576\n",
      "RMSE: 1127827.5668\n",
      "\n"
     ]
    }
   ],
   "execution_count": 5
  },
  {
   "metadata": {
    "ExecuteTime": {
     "end_time": "2024-06-14T19:21:27.345088Z",
     "start_time": "2024-06-14T19:21:27.339477Z"
    }
   },
   "cell_type": "code",
   "source": "#models['Logistic Regression'] = evaluate_model('Logistic Regression', LogisticRegression(), X_train, y_train, X_test, y_test)",
   "id": "c2ba29faa76d070f",
   "outputs": [],
   "execution_count": 6
  },
  {
   "metadata": {
    "ExecuteTime": {
     "end_time": "2024-06-14T19:22:41.173159Z",
     "start_time": "2024-06-14T19:21:27.349092Z"
    }
   },
   "cell_type": "code",
   "source": "models['SVR (linear kernel)'] = evaluate_model('SVR (linear kernel)', SVR(kernel='linear'), X_train, y_train, X_test, y_test)",
   "id": "2c2fdb8aa806538a",
   "outputs": [
    {
     "name": "stdout",
     "output_type": "stream",
     "text": [
      "Model: SVR (linear kernel)\n",
      "R^2: 0.6081\n",
      "MAE: 88341.1794\n",
      "MSE: 2599578893422.7090\n",
      "RMSE: 1612320.9648\n",
      "\n"
     ]
    }
   ],
   "execution_count": 7
  },
  {
   "metadata": {
    "ExecuteTime": {
     "end_time": "2024-06-14T19:22:45.669119Z",
     "start_time": "2024-06-14T19:22:41.175163Z"
    }
   },
   "cell_type": "code",
   "source": "models['SVR (rbf kernel)'] = evaluate_model('SVR (rbf kernel)', SVR(kernel='rbf'), X_train, y_train, X_test, y_test)",
   "id": "1619f4191d77970a",
   "outputs": [
    {
     "name": "stdout",
     "output_type": "stream",
     "text": [
      "Model: SVR (rbf kernel)\n",
      "R^2: -0.0029\n",
      "MAE: 138329.0400\n",
      "MSE: 6652224219590.3164\n",
      "RMSE: 2579190.6133\n",
      "\n"
     ]
    }
   ],
   "execution_count": 8
  },
  {
   "metadata": {
    "ExecuteTime": {
     "end_time": "2024-06-14T19:22:45.717119Z",
     "start_time": "2024-06-14T19:22:45.671650Z"
    }
   },
   "cell_type": "code",
   "source": "models['K-NN'] = evaluate_model('K-NN', KNeighborsRegressor(n_neighbors=2), X_train, y_train, X_test, y_test)",
   "id": "c0fcf2a7b9f12b0e",
   "outputs": [
    {
     "name": "stdout",
     "output_type": "stream",
     "text": [
      "Model: K-NN\n",
      "R^2: 0.7870\n",
      "MAE: 83591.7064\n",
      "MSE: 1412954331329.3804\n",
      "RMSE: 1188677.5557\n",
      "\n"
     ]
    }
   ],
   "execution_count": 9
  },
  {
   "metadata": {
    "ExecuteTime": {
     "end_time": "2024-06-14T19:22:45.773487Z",
     "start_time": "2024-06-14T19:22:45.719124Z"
    }
   },
   "cell_type": "code",
   "source": "models['Decision Tree'] = evaluate_model('Decision Tree', DecisionTreeRegressor(), X_train, y_train, X_test, y_test)",
   "id": "9205964e700d09ca",
   "outputs": [
    {
     "name": "stdout",
     "output_type": "stream",
     "text": [
      "Model: Decision Tree\n",
      "R^2: 0.9628\n",
      "MAE: 55373.7676\n",
      "MSE: 246431118148.3596\n",
      "RMSE: 496418.2895\n",
      "\n"
     ]
    }
   ],
   "execution_count": 10
  },
  {
   "metadata": {
    "ExecuteTime": {
     "end_time": "2024-06-14T19:22:45.780992Z",
     "start_time": "2024-06-14T19:22:45.776493Z"
    }
   },
   "cell_type": "code",
   "source": "#models['K_Means'] = evaluate_model('K_Means', KMeans(n_clusters=4), X_train, y_train, X_test, y_test)",
   "id": "5eb5cff61577bf46",
   "outputs": [],
   "execution_count": 11
  },
  {
   "metadata": {
    "ExecuteTime": {
     "end_time": "2024-06-14T19:22:51.374448Z",
     "start_time": "2024-06-14T19:22:45.784090Z"
    }
   },
   "cell_type": "code",
   "source": "models['Random Forest'] = evaluate_model('Random Forest', RandomForestRegressor(n_estimators=200), X_train, y_train, X_test, y_test)",
   "id": "838154fc688e9471",
   "outputs": [
    {
     "name": "stdout",
     "output_type": "stream",
     "text": [
      "Model: Random Forest\n",
      "R^2: 0.8731\n",
      "MAE: 81698.5228\n",
      "MSE: 841821002422.1982\n",
      "RMSE: 917508.0394\n",
      "\n"
     ]
    }
   ],
   "execution_count": 12
  },
  {
   "metadata": {
    "ExecuteTime": {
     "end_time": "2024-06-14T19:23:49.541534Z",
     "start_time": "2024-06-14T19:22:51.376450Z"
    }
   },
   "cell_type": "code",
   "source": "models['Neural Network (single layer)'] = evaluate_model('Neural Network (single layer)', MLPRegressor(hidden_layer_sizes=(10000,), max_iter=10000), X_train, y_train, X_test, y_test)",
   "id": "cfd6142a7b659ce5",
   "outputs": [
    {
     "name": "stdout",
     "output_type": "stream",
     "text": [
      "Model: Neural Network (single layer)\n",
      "R^2: 0.8080\n",
      "MAE: 80846.4825\n",
      "MSE: 1273817446417.0635\n",
      "RMSE: 1128635.2141\n",
      "\n"
     ]
    }
   ],
   "execution_count": 13
  },
  {
   "metadata": {
    "ExecuteTime": {
     "end_time": "2024-06-14T19:23:53.596351Z",
     "start_time": "2024-06-14T19:23:49.544545Z"
    }
   },
   "cell_type": "code",
   "source": "models['Neural Network (multi layer)'] = evaluate_model('Neural Network (multi layer)', MLPRegressor(hidden_layer_sizes=(100, 50), max_iter=10000), X_train, y_train, X_test, y_test)",
   "id": "70de9a4c8fd21dd1",
   "outputs": [
    {
     "name": "stdout",
     "output_type": "stream",
     "text": [
      "Model: Neural Network (multi layer)\n",
      "R^2: 0.8120\n",
      "MAE: 80653.0333\n",
      "MSE: 1246813847041.6587\n",
      "RMSE: 1116608.1887\n",
      "\n"
     ]
    }
   ],
   "execution_count": 14
  },
  {
   "metadata": {
    "ExecuteTime": {
     "end_time": "2024-06-14T19:23:53.606010Z",
     "start_time": "2024-06-14T19:23:53.599358Z"
    }
   },
   "cell_type": "code",
   "source": [
    "# Salvar os modelos e os mapeamentos\n",
    "# joblib.dump(models, 'models.pkl')\n",
    "# joblib.dump(label_encoder_category, 'label_encoder_category.pkl')\n",
    "# joblib.dump(label_encoder_content_rating, 'label_encoder_content_rating.pkl')\n",
    "# joblib.dump(category_mapping, 'category_mapping.pkl')\n",
    "# joblib.dump(content_mapping, 'content_mapping.pkl')\n",
    "# \n",
    "# print(\"Modelos e mapeamentos salvos com sucesso.\")\n"
   ],
   "id": "initial_id",
   "outputs": [],
   "execution_count": 15
  },
  {
   "metadata": {
    "ExecuteTime": {
     "end_time": "2024-06-14T19:29:03.906946Z",
     "start_time": "2024-06-14T19:29:00.989149Z"
    }
   },
   "cell_type": "code",
   "source": [
    "import numpy as np\n",
    "import matplotlib.pyplot as plt\n",
    "from sklearn.metrics import mean_squared_error\n",
    "\n",
    "# Gerar gráfico de barras horizontais com os valores de RMSE obtidos para cada um dos modelos\n",
    "rmse_values = {name: np.sqrt(mean_squared_error(y_test, model.predict(X_test))) for name, model in models.items()}\n",
    "\n",
    "plt.figure(figsize=(10, 5))\n",
    "bars = plt.barh(list(rmse_values.keys()), list(rmse_values.values()))\n",
    "#Título do gráfico\n",
    "plt.title('RMSE para cada modelo')\n",
    "plt.xlabel('RMSE')\n",
    "plt.ylabel('Modelos')\n",
    "\n",
    "# Adicionar os valores de RMSE no final de cada barra\n",
    "for bar in bars:\n",
    "    width = bar.get_width()\n",
    "    plt.text(width, bar.get_y() + bar.get_height() / 2.0, f'{width:.2f}', ha='left', va='center')\n",
    "\n",
    "plt.show()\n"
   ],
   "id": "47fef7a7c55b1f07",
   "outputs": [
    {
     "data": {
      "text/plain": [
       "<Figure size 1000x500 with 1 Axes>"
      ],
      "image/png": "[encoded data removed]"
     },
     "metadata": {},
     "output_type": "display_data"
    }
   ],
   "execution_count": 19
  }
 ],
 "metadata": {
  "kernelspec": {
   "display_name": "Python 3",
   "language": "python",
   "name": "python3"
  },
  "language_info": {
   "codemirror_mode": {
    "name": "ipython",
    "version": 2
   },
   "file_extension": ".py",
   "mimetype": "text/x-python",
   "name": "python",
   "nbconvert_exporter": "python",
   "pygments_lexer": "ipython2",
   "version": "2.7.6"
  }
 },
 "nbformat": 4,
 "nbformat_minor": 5
}
