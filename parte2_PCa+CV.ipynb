{
 "cells": [
  {
   "cell_type": "code",
   "execution_count": 1,
   "id": "9f66fb4760d0a89a",
   "metadata": {
    "collapsed": false,
    "ExecuteTime": {
     "end_time": "2024-06-12T00:09:07.468482Z",
     "start_time": "2024-06-12T00:09:05.467241Z"
    }
   },
   "outputs": [
    {
     "name": "stdout",
     "output_type": "stream",
     "text": [
      "Dados iniciais:\n",
      "        Category  Rating  Rating Count Installs  Free  Price  Size  \\\n",
      "0      Adventure     0.0           0.0      10+  True    0.0   10M   \n",
      "1          Tools     4.4          64.0   5,000+  True    0.0  2.9M   \n",
      "2   Productivity     0.0           0.0      50+  True    0.0  3.7M   \n",
      "3  Communication     5.0           5.0      10+  True    0.0  1.8M   \n",
      "4          Tools     0.0           0.0     100+  True    0.0  6.2M   \n",
      "\n",
      "  Minimum Android Content Rating  Ad Supported  In App Purchases  \\\n",
      "0      7.1 and up       Everyone         False             False   \n",
      "1      5.0 and up       Everyone          True             False   \n",
      "2    4.0.3 and up       Everyone         False             False   \n",
      "3    4.0.3 and up       Everyone          True             False   \n",
      "4      4.1 and up       Everyone         False             False   \n",
      "\n",
      "   Editors Choice  \n",
      "0           False  \n",
      "1           False  \n",
      "2           False  \n",
      "3           False  \n",
      "4           False  \n",
      "<class 'pandas.core.frame.DataFrame'>\n",
      "RangeIndex: 8000 entries, 0 to 7999\n",
      "Data columns (total 12 columns):\n",
      " #   Column            Non-Null Count  Dtype  \n",
      "---  ------            --------------  -----  \n",
      " 0   Category          8000 non-null   object \n",
      " 1   Rating            7930 non-null   float64\n",
      " 2   Rating Count      7930 non-null   float64\n",
      " 3   Installs          7999 non-null   object \n",
      " 4   Free              8000 non-null   bool   \n",
      " 5   Price             8000 non-null   float64\n",
      " 6   Size              8000 non-null   object \n",
      " 7   Minimum Android   7979 non-null   object \n",
      " 8   Content Rating    8000 non-null   object \n",
      " 9   Ad Supported      8000 non-null   bool   \n",
      " 10  In App Purchases  8000 non-null   bool   \n",
      " 11  Editors Choice    8000 non-null   bool   \n",
      "dtypes: bool(4), float64(3), object(5)\n",
      "memory usage: 531.4+ KB\n",
      "None\n",
      "Valores ausentes antes da imputação:\n",
      "Category             0\n",
      "Rating              70\n",
      "Rating Count        70\n",
      "Installs             1\n",
      "Free                 0\n",
      "Price                0\n",
      "Size                 0\n",
      "Minimum Android     21\n",
      "Content Rating       0\n",
      "Ad Supported         0\n",
      "In App Purchases     0\n",
      "Editors Choice       0\n",
      "dtype: int64\n",
      "Exemplos de valores na coluna 'Installs' após a conversão:\n",
      "0       10\n",
      "1     5000\n",
      "2       50\n",
      "3       10\n",
      "4      100\n",
      "5       50\n",
      "6     1000\n",
      "7      500\n",
      "8       10\n",
      "9    50000\n",
      "Name: Installs, dtype: Int64\n",
      "Valores ausentes após remoção de linhas com 'Installs' nulos:\n",
      "Category             0\n",
      "Rating              69\n",
      "Rating Count        69\n",
      "Installs             0\n",
      "Free                 0\n",
      "Price                0\n",
      "Size                 0\n",
      "Minimum Android     21\n",
      "Content Rating       0\n",
      "Ad Supported         0\n",
      "In App Purchases     0\n",
      "Editors Choice       0\n",
      "dtype: int64\n",
      "Content Mapping  {'Everyone': 0, 'Everyone 10+': 1, 'Mature 17+': 2, 'Teen': 3} \n",
      "Category Mapping  {'Action': 0, 'Adventure': 1, 'Arcade': 2, 'Art & Design': 3, 'Auto & Vehicles': 4, 'Beauty': 5, 'Board': 6, 'Books & Reference': 7, 'Business': 8, 'Card': 9, 'Casino': 10, 'Casual': 11, 'Comics': 12, 'Communication': 13, 'Dating': 14, 'Education': 15, 'Educational': 16, 'Entertainment': 17, 'Events': 18, 'Finance': 19, 'Food & Drink': 20, 'Health & Fitness': 21, 'House & Home': 22, 'Libraries & Demo': 23, 'Lifestyle': 24, 'Maps & Navigation': 25, 'Medical': 26, 'Music': 27, 'Music & Audio': 28, 'News & Magazines': 29, 'Parenting': 30, 'Personalization': 31, 'Photography': 32, 'Productivity': 33, 'Puzzle': 34, 'Racing': 35, 'Role Playing': 36, 'Shopping': 37, 'Simulation': 38, 'Social': 39, 'Sports': 40, 'Strategy': 41, 'Tools': 42, 'Travel & Local': 43, 'Trivia': 44, 'Video Players & Editors': 45, 'Weather': 46, 'Word': 47}\n",
      "Tamanho atual do dataframe: (7999, 12)\n"
     ]
    }
   ],
   "source": [
    "import pandas as pd\n",
    "import numpy as np\n",
    "from sklearn.model_selection import train_test_split, cross_val_score\n",
    "from sklearn.linear_model import LinearRegression, Ridge, Lasso, LogisticRegression\n",
    "from sklearn.cluster import KMeans\n",
    "from sklearn.metrics import r2_score, mean_absolute_error, mean_squared_error\n",
    "from sklearn.preprocessing import StandardScaler, OneHotEncoder, LabelEncoder\n",
    "from sklearn.compose import ColumnTransformer\n",
    "from sklearn.pipeline import Pipeline\n",
    "from sklearn.impute import SimpleImputer\n",
    "from sklearn.svm import SVR\n",
    "from sklearn.neighbors import KNeighborsRegressor\n",
    "from sklearn.tree import DecisionTreeRegressor, plot_tree, export_graphviz\n",
    "from sklearn.ensemble import RandomForestRegressor\n",
    "from sklearn.neural_network import MLPRegressor\n",
    "from sklearn.decomposition import PCA\n",
    "import matplotlib.pyplot as plt\n",
    "import graphviz\n",
    "import os\n",
    "from IPython.display import Image\n",
    "\n",
    "# Carregar o dataset\n",
    "data = pd.read_csv('Data/Google-Playstore.csv', nrows=8000)\n",
    "\n",
    "# Remover colunas indesejadas\n",
    "data = data.drop(['App Name', 'App Id', 'Minimum Installs', 'Maximum Installs', 'Currency',\n",
    "                  'Developer Id', 'Developer Website', 'Developer Email', 'Released',\n",
    "                  'Last Updated', 'Privacy Policy', 'Scraped Time'], axis=1)\n",
    "\n",
    "# Inspecionar os primeiros registros e verificar valores ausentes\n",
    "print(\"Dados iniciais:\")\n",
    "print(data.head())\n",
    "print(data.info())\n",
    "print(\"Valores ausentes antes da imputação:\")\n",
    "print(data.isnull().sum())\n",
    "\n",
    "# Remover linhas onde a variável alvo 'Installs' é nula\n",
    "data = data.dropna(subset=['Installs'])\n",
    "\n",
    "# Tratar a coluna 'Installs'\n",
    "data['Installs'] = data['Installs'].str.replace('[+,]', '', regex=True)\n",
    "data['Installs'] = pd.to_numeric(data['Installs'], errors='coerce').astype('Int64')\n",
    "\n",
    "print(\"Exemplos de valores na coluna 'Installs' após a conversão:\")\n",
    "print(data['Installs'].head(10))\n",
    "\n",
    "print(\"Valores ausentes após remoção de linhas com 'Installs' nulos:\")\n",
    "print(data.isnull().sum())\n",
    "\n",
    "def handle_missing_values(df):\n",
    "    df['Category'].fillna(df['Category'].mode()[0], inplace=True)\n",
    "    df['Rating'].fillna(df['Rating'].mean(), inplace=True)\n",
    "    df['Rating Count'].fillna(df['Rating Count'].mean(), inplace=True)\n",
    "    df['Free'].fillna(True, inplace=True)\n",
    "    df['Price'].fillna(0.0, inplace=True)\n",
    "    df['Size'] = df['Size'].apply(size_to_mb)\n",
    "    df['Size'].fillna(df['Size'].mean(), inplace=True)\n",
    "    df['Minimum Android'].fillna(df['Minimum Android'].mode()[0], inplace=True)\n",
    "    df['Content Rating'].fillna(df['Content Rating'].mode()[0], inplace=True)\n",
    "    df['Ad Supported'].fillna(True, inplace=True)\n",
    "    df['In App Purchases'].fillna(False, inplace=True)\n",
    "    df['Editors Choice'].fillna(False, inplace=True)\n",
    "\n",
    "def size_to_mb(size):\n",
    "    if pd.isna(size):\n",
    "        return np.nan\n",
    "    if isinstance(size, str):\n",
    "        if 'M' in size or 'm' in size:\n",
    "            return float(size.replace('M', '').replace('m', '').replace(',', '.'))\n",
    "        elif 'K' in size or 'k' in size:\n",
    "            return float(size.replace('K', '').replace('k', '').replace(',', '.')) / 1024\n",
    "        elif 'G' in size or 'g' in size:\n",
    "            return float(size.replace('G', '').replace('g', '').replace(',', '.')) * 1024\n",
    "    return np.nan\n",
    "\n",
    "def parse_android_version(version):\n",
    "    if pd.isna(version):\n",
    "        return np.nan\n",
    "    if 'Varies with device' in version:\n",
    "        return np.nan\n",
    "    if 'and up' in version:\n",
    "        version = version.replace('and up', '').strip()\n",
    "    if '-' in version:\n",
    "        version = version.split('-')[0].strip()\n",
    "    version = version.replace('W', '').strip()\n",
    "    try:\n",
    "        return float(version)\n",
    "    except ValueError:\n",
    "        return np.nan\n",
    "\n",
    "handle_missing_values(data)\n",
    "data['Minimum Android'] = data['Minimum Android'].apply(parse_android_version)\n",
    "mean_android_version = data['Minimum Android'].mean()\n",
    "data['Minimum Android'].fillna(mean_android_version, inplace=True)\n",
    "\n",
    "data['Rating Count'] = data['Rating Count'].astype(int)\n",
    "data['Minimum Android'] = [int(x * 10) / 10 for x in data['Minimum Android']]\n",
    "\n",
    "label_encoder = LabelEncoder()\n",
    "data['Category'] = label_encoder.fit_transform(data['Category'])\n",
    "category_mapping = dict(zip(label_encoder.classes_, label_encoder.transform(label_encoder.classes_)))\n",
    "data['Content Rating'] = label_encoder.fit_transform(data['Content Rating'])\n",
    "content_mapping = dict(zip(label_encoder.classes_, label_encoder.transform(label_encoder.classes_)))\n",
    "\n",
    "print(\"Content Mapping \", content_mapping, \"\\nCategory Mapping \", category_mapping)\n",
    "\n",
    "# Preparação dos dados\n",
    "X = data[['Category', 'Rating','Rating Count', 'Free','Price','Size','Minimum Android','Content Rating', 'Ad Supported','In App Purchases','Editors Choice']]\n",
    "y = data['Installs']\n",
    "\n",
    "# Aplicar PCA para redução de dimensionalidade\n",
    "pca = PCA(n_components=5, svd_solver='auto')\n",
    "X_reduced = pca.fit_transform(X)\n",
    "\n",
    "# Função para avaliar o modelo\n",
    "def evaluate_model_cv(name, model, X, y):\n",
    "    scores = cross_val_score(model, X, y, cv=5, scoring='r2')\n",
    "    print(f\"Model: {name}\")\n",
    "    print(f\"R^2 scores: {scores}\")\n",
    "    print(f\"Mean R^2: {scores.mean():.4f}\")\n",
    "    print(f\"Standard Deviation of R^2: {scores.std():.4f}\\n\")\n",
    "\n",
    "print(\"Tamanho atual do dataframe:\", data.shape)\n",
    "\n"
   ]
  },
  {
   "cell_type": "code",
   "outputs": [
    {
     "name": "stdout",
     "output_type": "stream",
     "text": [
      "Model: Linear Regression\n",
      "R^2 scores: [ 0.76497533  0.6647855  -0.47808262 -4.53693337  0.63532503]\n",
      "Mean R^2: -0.5900\n",
      "Standard Deviation of R^2: 2.0250\n"
     ]
    }
   ],
   "source": [
    "# Avaliar modelos com Cross-Validation\n",
    "evaluate_model_cv('Linear Regression', LinearRegression(), X_reduced, y)"
   ],
   "metadata": {
    "collapsed": false,
    "ExecuteTime": {
     "end_time": "2024-06-12T00:09:12.362744Z",
     "start_time": "2024-06-12T00:09:12.334620Z"
    }
   },
   "id": "ec094bb85581c535",
   "execution_count": 2
  },
  {
   "cell_type": "code",
   "outputs": [
    {
     "name": "stdout",
     "output_type": "stream",
     "text": [
      "Model: Ridge Regression\n",
      "R^2 scores: [ 0.76497534  0.66478551 -0.4780826  -4.53693336  0.63532506]\n",
      "Mean R^2: -0.5900\n",
      "Standard Deviation of R^2: 2.0250\n"
     ]
    }
   ],
   "source": [
    "evaluate_model_cv('Ridge Regression', Ridge(alpha=1.0), X_reduced, y)"
   ],
   "metadata": {
    "collapsed": false,
    "ExecuteTime": {
     "end_time": "2024-06-12T00:09:20.152302Z",
     "start_time": "2024-06-12T00:09:20.133047Z"
    }
   },
   "id": "7b1c653290fa4727",
   "execution_count": 3
  },
  {
   "cell_type": "code",
   "outputs": [
    {
     "name": "stdout",
     "output_type": "stream",
     "text": [
      "Model: Lasso Regression\n",
      "R^2 scores: [ 0.76497534  0.66478551 -0.47808256 -4.53693332  0.63532509]\n",
      "Mean R^2: -0.5900\n",
      "Standard Deviation of R^2: 2.0250\n"
     ]
    }
   ],
   "source": [
    "evaluate_model_cv('Lasso Regression', Lasso(alpha=1.0), X_reduced, y)"
   ],
   "metadata": {
    "collapsed": false,
    "ExecuteTime": {
     "end_time": "2024-06-12T00:09:23.954009Z",
     "start_time": "2024-06-12T00:09:23.926796Z"
    }
   },
   "id": "9981b47ebe1056a3",
   "execution_count": 4
  },
  {
   "cell_type": "code",
   "outputs": [],
   "source": [
    "evaluate_model_cv('SVR (linear kernel)', SVR(kernel='linear'), X_reduced, y)"
   ],
   "metadata": {
    "collapsed": false
   },
   "id": "fcdff5a5b082915a",
   "execution_count": null
  },
  {
   "cell_type": "code",
   "outputs": [],
   "source": [
    "evaluate_model_cv('SVR (rbf kernel)', SVR(kernel='rbf'), X_reduced, y)"
   ],
   "metadata": {
    "collapsed": false
   },
   "id": "b4baed4e3f0ac718",
   "execution_count": null
  },
  {
   "cell_type": "code",
   "outputs": [
    {
     "name": "stdout",
     "output_type": "stream",
     "text": [
      "Model: K-NN\n",
      "R^2 scores: [ 0.75579882  0.16775175  0.51252603 -3.07452298  0.34924966]\n",
      "Mean R^2: -0.2578\n",
      "Standard Deviation of R^2: 1.4216\n"
     ]
    }
   ],
   "source": [
    "evaluate_model_cv('K-NN', KNeighborsRegressor(n_neighbors=2), X_reduced, y)"
   ],
   "metadata": {
    "collapsed": false,
    "ExecuteTime": {
     "end_time": "2024-06-12T00:09:43.916269Z",
     "start_time": "2024-06-12T00:09:43.870849Z"
    }
   },
   "id": "ae240e359352bde8",
   "execution_count": 6
  },
  {
   "cell_type": "code",
   "outputs": [
    {
     "name": "stdout",
     "output_type": "stream",
     "text": [
      "Model: Decision Tree\n",
      "R^2 scores: [ 0.95492421  0.16604907  0.24814682  0.2940182  -0.6024879 ]\n",
      "Mean R^2: 0.2121\n",
      "Standard Deviation of R^2: 0.4951\n"
     ]
    }
   ],
   "source": [
    "evaluate_model_cv('Decision Tree', DecisionTreeRegressor(), X_reduced, y)"
   ],
   "metadata": {
    "collapsed": false,
    "ExecuteTime": {
     "end_time": "2024-06-12T00:10:02.698341Z",
     "start_time": "2024-06-12T00:10:02.495423Z"
    }
   },
   "id": "7958d6b1934b61f4",
   "execution_count": 7
  },
  {
   "cell_type": "code",
   "outputs": [
    {
     "name": "stdout",
     "output_type": "stream",
     "text": [
      "Model: Random Forest\n",
      "R^2 scores: [0.87735871 0.49560812 0.52414925 0.15851244 0.49881952]\n",
      "Mean R^2: 0.5109\n",
      "Standard Deviation of R^2: 0.2276\n"
     ]
    }
   ],
   "source": [
    "evaluate_model_cv('Random Forest', RandomForestRegressor(n_estimators=200), X_reduced, y)"
   ],
   "metadata": {
    "collapsed": false,
    "ExecuteTime": {
     "end_time": "2024-06-12T00:11:34.608032Z",
     "start_time": "2024-06-12T00:10:50.414386Z"
    }
   },
   "id": "d24cbca48254afcb",
   "execution_count": 9
  },
  {
   "cell_type": "code",
   "outputs": [
    {
     "name": "stderr",
     "output_type": "stream",
     "text": [
      "C:\\Users\\Ivani\\anaconda3\\Lib\\site-packages\\sklearn\\neural_network\\_multilayer_perceptron.py:693: UserWarning: Training interrupted by user.\n",
      "  warnings.warn(\"Training interrupted by user.\")\n"
     ]
    }
   ],
   "source": [
    "evaluate_model_cv('Neural Network (single layer)', MLPRegressor(hidden_layer_sizes=(10000,), max_iter=10000), X_reduced, y)"
   ],
   "metadata": {
    "collapsed": false,
    "is_executing": true,
    "ExecuteTime": {
     "start_time": "2024-06-12T00:11:56.601194Z"
    }
   },
   "id": "154a30824a8f6d0f",
   "execution_count": null
  },
  {
   "cell_type": "code",
   "outputs": [],
   "source": [
    "evaluate_model_cv('Neural Network (multi layer)', MLPRegressor(hidden_layer_sizes=(100, 50), max_iter=10000), X_reduced, y)\n"
   ],
   "metadata": {
    "collapsed": true
   },
   "id": "initial_id",
   "execution_count": 0
  }
 ],
 "metadata": {
  "kernelspec": {
   "display_name": "Python 3",
   "language": "python",
   "name": "python3"
  },
  "language_info": {
   "codemirror_mode": {
    "name": "ipython",
    "version": 2
   },
   "file_extension": ".py",
   "mimetype": "text/x-python",
   "name": "python",
   "nbconvert_exporter": "python",
   "pygments_lexer": "ipython2",
   "version": "2.7.6"
  }
 },
 "nbformat": 4,
 "nbformat_minor": 5
}
