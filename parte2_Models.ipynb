{
 "cells": [
  {
   "cell_type": "code",
   "id": "9a021c4c2d228a9",
   "metadata": {
    "collapsed": false,
    "ExecuteTime": {
     "end_time": "2024-06-14T18:00:37.759862Z",
     "start_time": "2024-06-14T18:00:34.243273Z"
    }
   },
   "source": [
    "import pandas as pd\n",
    "import numpy as np\n",
    "from sklearn.model_selection import train_test_split\n",
    "from sklearn.linear_model import LinearRegression, Ridge, Lasso, LogisticRegression\n",
    "from sklearn.cluster import KMeans\n",
    "from sklearn.metrics import r2_score, mean_absolute_error, mean_squared_error\n",
    "from sklearn.preprocessing import StandardScaler, OneHotEncoder, LabelEncoder\n",
    "from sklearn.compose import ColumnTransformer\n",
    "from sklearn.pipeline import Pipeline\n",
    "from sklearn.impute import SimpleImputer\n",
    "from sklearn.svm import SVR\n",
    "from sklearn.neighbors import KNeighborsRegressor\n",
    "from sklearn.tree import DecisionTreeRegressor, plot_tree, export_graphviz\n",
    "from sklearn.ensemble import RandomForestRegressor\n",
    "from sklearn.neural_network import MLPRegressor\n",
    "from sklearn.decomposition import PCA\n",
    "import matplotlib.pyplot as plt\n",
    "import graphviz\n",
    "import os\n",
    "from IPython.display import Image\n",
    "\n",
    "\n",
    "# Carregar o dataset\n",
    "data = pd.read_csv('Data/Google-Playstore.csv', nrows=8000)\n",
    "\n",
    "# Remover colunas indesejadas\n",
    "data = data.drop(['App Name', 'App Id', 'Minimum Installs', 'Maximum Installs', 'Currency',\n",
    "                  'Developer Id', 'Developer Website', 'Developer Email', 'Released',\n",
    "                  'Last Updated', 'Privacy Policy', 'Scraped Time'], axis=1)\n",
    "\n",
    "# Inspecionar os primeiros registros e verificar valores ausentes\n",
    "print(\"Dados iniciais:\")\n",
    "print(data.head())\n",
    "print(data.info())\n",
    "print(\"Valores ausentes antes da imputação:\")\n",
    "print(data.isnull().sum())\n",
    "\n",
    "# Remover linhas onde a variável alvo 'Installs' é nula\n",
    "data = data.dropna(subset=['Installs'])\n",
    "\n",
    "# Tratar a coluna 'Installs'\n",
    "data['Installs'] = data['Installs'].str.replace('[+,]', '', regex=True)\n",
    "data['Installs'] = pd.to_numeric(data['Installs'], errors='coerce').astype('Int64')\n",
    "\n",
    "print(\"Exemplos de valores na coluna 'Installs' após a conversão:\")\n",
    "print(data['Installs'].head(10))\n",
    "\n",
    "print(\"Valores ausentes após remoção de linhas com 'Installs' nulos:\")\n",
    "print(data.isnull().sum())\n",
    "\n",
    "def handle_missing_values(df):\n",
    "    df['Category'].fillna(df['Category'].mode()[0], inplace=True)\n",
    "    df['Rating'].fillna(df['Rating'].mean(), inplace=True)\n",
    "    df['Rating Count'].fillna(df['Rating Count'].mean(), inplace=True)\n",
    "    df['Free'].fillna(True, inplace=True)\n",
    "    df['Price'].fillna(0.0, inplace=True)\n",
    "    df['Size'] = df['Size'].apply(size_to_mb)\n",
    "    df['Size'].fillna(df['Size'].mean(), inplace=True)\n",
    "    df['Minimum Android'].fillna(df['Minimum Android'].mode()[0], inplace=True)\n",
    "    df['Content Rating'].fillna(df['Content Rating'].mode()[0], inplace=True)\n",
    "    df['Ad Supported'].fillna(True, inplace=True)\n",
    "    df['In App Purchases'].fillna(False, inplace=True)\n",
    "    df['Editors Choice'].fillna(False, inplace=True)\n",
    "\n",
    "def size_to_mb(size):\n",
    "    if pd.isna(size):\n",
    "        return np.nan\n",
    "    if isinstance(size, str):\n",
    "        if 'M' in size or 'm' in size:\n",
    "            return float(size.replace('M', '').replace('m', '').replace(',', '.'))\n",
    "        elif 'K' in size or 'k' in size:\n",
    "            return float(size.replace('K', '').replace('k', '').replace(',', '.')) / 1024\n",
    "        elif 'G' in size or 'g' in size:\n",
    "            return float(size.replace('G', '').replace('g', '').replace(',', '.')) * 1024\n",
    "    return np.nan\n",
    "\n",
    "def parse_android_version(version):\n",
    "    if pd.isna(version):\n",
    "        return np.nan\n",
    "    if 'Varies with device' in version:\n",
    "        return np.nan\n",
    "    if 'and up' in version:\n",
    "        version = version.replace('and up', '').strip()\n",
    "    if '-' in version:\n",
    "        version = version.split('-')[0].strip()\n",
    "    version = version.replace('W', '').strip()\n",
    "    try:\n",
    "        return float(version)\n",
    "    except ValueError:\n",
    "        return np.nan\n",
    "\n",
    "handle_missing_values(data)\n",
    "data['Minimum Android'] = data['Minimum Android'].apply(parse_android_version)\n",
    "mean_android_version = data['Minimum Android'].mean()\n",
    "data['Minimum Android'].fillna(mean_android_version, inplace=True)\n",
    "\n",
    "data['Rating Count'] = data['Rating Count'].astype(int)\n",
    "data['Minimum Android'] = [int(x * 10) / 10 for x in data['Minimum Android']]\n",
    "\n",
    "label_encoder_category = LabelEncoder()\n",
    "label_encoder_content_rating = LabelEncoder()\n",
    "data['Category'] = label_encoder_category.fit_transform(data['Category'])\n",
    "category_mapping = dict(zip(label_encoder_category.classes_, label_encoder_category.transform(label_encoder_category.classes_)))\n",
    "data['Content Rating'] = label_encoder_content_rating.fit_transform(data['Content Rating'])\n",
    "content_mapping = dict(zip(label_encoder_content_rating.classes_, label_encoder_content_rating.transform(label_encoder_content_rating.classes_)))\n",
    "\n",
    "print(\"Content Mapping \", content_mapping, \"\\nCategory Mapping \", category_mapping)\n",
    "\n",
    "# Preparação dos dados\n",
    "X = data[['Category', 'Rating','Rating Count', 'Free','Price','Size','Minimum Android','Content Rating', 'Ad Supported','In App Purchases','Editors Choice']]\n",
    "y = data['Installs']\n",
    "\n",
    "# Aplicar PCA para redução de dimensionalidade\n",
    "#pca = PCA(n_components=5, svd_solver='auto')\n",
    "#X_reduced = pca.fit_transform(X)\n",
    "\n",
    "# Dividir o dataset em treino e teste\n",
    "X_train, X_test, y_train, y_test = train_test_split(X, y, test_size=0.2, random_state=42)\n",
    "\n",
    "# Função para avaliar o modelo\n",
    "def evaluate_model(name, model, X_train, y_train, X_test, y_test):\n",
    "    model.fit(X_train, y_train)\n",
    "    y_pred = model.predict(X_test)\n",
    "    r2 = r2_score(y_test, y_pred)\n",
    "    mae = mean_absolute_error(y_test, y_pred)\n",
    "    mse = mean_squared_error(y_test, y_pred)\n",
    "    rmse = np.sqrt(mse)\n",
    "    print(f\"Model: {name}\")\n",
    "    print(f\"R^2: {r2:.4f}\")\n",
    "    print(f\"MAE: {mae:.4f}\")\n",
    "    print(f\"MSE: {mse:.4f}\")\n",
    "    print(f\"RMSE: {rmse:.4f}\\n\")\n",
    "    return model\n",
    "\n",
    "print(\"Tamanho atual do dataframe:\", data.shape)\n",
    "\n",
    "models = {}"
   ],
   "outputs": [
    {
     "name": "stdout",
     "output_type": "stream",
     "text": [
      "Dados iniciais:\n",
      "        Category  Rating  Rating Count Installs  Free  Price  Size  \\\n",
      "0      Adventure     0.0           0.0      10+  True    0.0   10M   \n",
      "1          Tools     4.4          64.0   5,000+  True    0.0  2.9M   \n",
      "2   Productivity     0.0           0.0      50+  True    0.0  3.7M   \n",
      "3  Communication     5.0           5.0      10+  True    0.0  1.8M   \n",
      "4          Tools     0.0           0.0     100+  True    0.0  6.2M   \n",
      "\n",
      "  Minimum Android Content Rating  Ad Supported  In App Purchases  \\\n",
      "0      7.1 and up       Everyone         False             False   \n",
      "1      5.0 and up       Everyone          True             False   \n",
      "2    4.0.3 and up       Everyone         False             False   \n",
      "3    4.0.3 and up       Everyone          True             False   \n",
      "4      4.1 and up       Everyone         False             False   \n",
      "\n",
      "   Editors Choice  \n",
      "0           False  \n",
      "1           False  \n",
      "2           False  \n",
      "3           False  \n",
      "4           False  \n",
      "<class 'pandas.core.frame.DataFrame'>\n",
      "RangeIndex: 8000 entries, 0 to 7999\n",
      "Data columns (total 12 columns):\n",
      " #   Column            Non-Null Count  Dtype  \n",
      "---  ------            --------------  -----  \n",
      " 0   Category          8000 non-null   object \n",
      " 1   Rating            7930 non-null   float64\n",
      " 2   Rating Count      7930 non-null   float64\n",
      " 3   Installs          7999 non-null   object \n",
      " 4   Free              8000 non-null   bool   \n",
      " 5   Price             8000 non-null   float64\n",
      " 6   Size              8000 non-null   object \n",
      " 7   Minimum Android   7979 non-null   object \n",
      " 8   Content Rating    8000 non-null   object \n",
      " 9   Ad Supported      8000 non-null   bool   \n",
      " 10  In App Purchases  8000 non-null   bool   \n",
      " 11  Editors Choice    8000 non-null   bool   \n",
      "dtypes: bool(4), float64(3), object(5)\n",
      "memory usage: 531.4+ KB\n",
      "None\n",
      "Valores ausentes antes da imputação:\n",
      "Category             0\n",
      "Rating              70\n",
      "Rating Count        70\n",
      "Installs             1\n",
      "Free                 0\n",
      "Price                0\n",
      "Size                 0\n",
      "Minimum Android     21\n",
      "Content Rating       0\n",
      "Ad Supported         0\n",
      "In App Purchases     0\n",
      "Editors Choice       0\n",
      "dtype: int64\n",
      "Exemplos de valores na coluna 'Installs' após a conversão:\n",
      "0       10\n",
      "1     5000\n",
      "2       50\n",
      "3       10\n",
      "4      100\n",
      "5       50\n",
      "6     1000\n",
      "7      500\n",
      "8       10\n",
      "9    50000\n",
      "Name: Installs, dtype: Int64\n",
      "Valores ausentes após remoção de linhas com 'Installs' nulos:\n",
      "Category             0\n",
      "Rating              69\n",
      "Rating Count        69\n",
      "Installs             0\n",
      "Free                 0\n",
      "Price                0\n",
      "Size                 0\n",
      "Minimum Android     21\n",
      "Content Rating       0\n",
      "Ad Supported         0\n",
      "In App Purchases     0\n",
      "Editors Choice       0\n",
      "dtype: int64\n",
      "Content Mapping  {'Everyone': 0, 'Everyone 10+': 1, 'Mature 17+': 2, 'Teen': 3} \n",
      "Category Mapping  {'Action': 0, 'Adventure': 1, 'Arcade': 2, 'Art & Design': 3, 'Auto & Vehicles': 4, 'Beauty': 5, 'Board': 6, 'Books & Reference': 7, 'Business': 8, 'Card': 9, 'Casino': 10, 'Casual': 11, 'Comics': 12, 'Communication': 13, 'Dating': 14, 'Education': 15, 'Educational': 16, 'Entertainment': 17, 'Events': 18, 'Finance': 19, 'Food & Drink': 20, 'Health & Fitness': 21, 'House & Home': 22, 'Libraries & Demo': 23, 'Lifestyle': 24, 'Maps & Navigation': 25, 'Medical': 26, 'Music': 27, 'Music & Audio': 28, 'News & Magazines': 29, 'Parenting': 30, 'Personalization': 31, 'Photography': 32, 'Productivity': 33, 'Puzzle': 34, 'Racing': 35, 'Role Playing': 36, 'Shopping': 37, 'Simulation': 38, 'Social': 39, 'Sports': 40, 'Strategy': 41, 'Tools': 42, 'Travel & Local': 43, 'Trivia': 44, 'Video Players & Editors': 45, 'Weather': 46, 'Word': 47}\n",
      "Tamanho atual do dataframe: (7999, 12)\n"
     ]
    }
   ],
   "execution_count": 3
  },
  {
   "cell_type": "code",
   "source": [
    "\n",
    "# Avaliar modelos e armazenar no dicionário\n",
    "models['Linear Regression'] = evaluate_model('Linear Regression', LinearRegression(), X_train, y_train, X_test, y_test)"
   ],
   "metadata": {
    "collapsed": false,
    "ExecuteTime": {
     "end_time": "2024-06-14T18:00:37.856508Z",
     "start_time": "2024-06-14T18:00:37.763871Z"
    }
   },
   "id": "b0cee7269e5164f0",
   "outputs": [
    {
     "name": "stdout",
     "output_type": "stream",
     "text": [
      "Model: Linear Regression\n",
      "R^2: 0.7605\n",
      "MAE: 122656.3307\n",
      "MSE: 1608324472393.4888\n",
      "RMSE: 1268197.3318\n",
      "\n"
     ]
    }
   ],
   "execution_count": 4
  },
  {
   "cell_type": "code",
   "source": [
    "\n",
    "models['Ridge Regression'] = evaluate_model('Ridge Regression', Ridge(alpha=1.0), X_train, y_train, X_test, y_test)"
   ],
   "metadata": {
    "collapsed": false,
    "ExecuteTime": {
     "end_time": "2024-06-14T18:00:37.890907Z",
     "start_time": "2024-06-14T18:00:37.859523Z"
    }
   },
   "id": "e4518e20d3ba27ea",
   "outputs": [
    {
     "name": "stdout",
     "output_type": "stream",
     "text": [
      "Model: Ridge Regression\n",
      "R^2: 0.7604\n",
      "MAE: 122947.1963\n",
      "MSE: 1608926612438.5813\n",
      "RMSE: 1268434.7096\n",
      "\n"
     ]
    }
   ],
   "execution_count": 5
  },
  {
   "cell_type": "code",
   "source": [
    "\n",
    "models['Lasso Regression'] = evaluate_model('Lasso Regression', Lasso(alpha=1.0), X_train, y_train, X_test, y_test)"
   ],
   "metadata": {
    "collapsed": false,
    "ExecuteTime": {
     "end_time": "2024-06-14T18:00:37.920508Z",
     "start_time": "2024-06-14T18:00:37.892914Z"
    }
   },
   "id": "2f42d821b375814b",
   "outputs": [
    {
     "name": "stdout",
     "output_type": "stream",
     "text": [
      "Model: Lasso Regression\n",
      "R^2: 0.7605\n",
      "MAE: 122655.1847\n",
      "MSE: 1608326282876.2549\n",
      "RMSE: 1268198.0456\n",
      "\n"
     ]
    }
   ],
   "execution_count": 6
  },
  {
   "cell_type": "code",
   "source": [
    "\n",
    "models['SVR (linear kernel)'] = evaluate_model('SVR (linear kernel)', SVR(kernel='linear'), X_train, y_train, X_test, y_test)"
   ],
   "metadata": {
    "collapsed": false,
    "ExecuteTime": {
     "end_time": "2024-06-14T18:01:40.729152Z",
     "start_time": "2024-06-14T18:00:38.710604Z"
    }
   },
   "id": "8119d05e1dfe29a7",
   "outputs": [
    {
     "name": "stdout",
     "output_type": "stream",
     "text": [
      "Model: SVR (linear kernel)\n",
      "R^2: 0.6397\n",
      "MAE: 100374.2236\n",
      "MSE: 2419726810769.4692\n",
      "RMSE: 1555547.1098\n",
      "\n"
     ]
    }
   ],
   "execution_count": 8
  },
  {
   "cell_type": "code",
   "source": [
    "\n",
    "models['SVR (rbf kernel)'] = evaluate_model('SVR (rbf kernel)', SVR(kernel='rbf'), X_train, y_train, X_test, y_test)"
   ],
   "metadata": {
    "collapsed": false,
    "ExecuteTime": {
     "end_time": "2024-06-14T18:01:46.185534Z",
     "start_time": "2024-06-14T18:01:40.731157Z"
    }
   },
   "id": "381782f186ac9368",
   "outputs": [
    {
     "name": "stdout",
     "output_type": "stream",
     "text": [
      "Model: SVR (rbf kernel)\n",
      "R^2: -0.0032\n",
      "MAE: 146634.7710\n",
      "MSE: 6736969995509.6279\n",
      "RMSE: 2595567.3745\n",
      "\n"
     ]
    }
   ],
   "execution_count": 9
  },
  {
   "cell_type": "code",
   "source": [
    "\n",
    "models['K-NN'] = evaluate_model('K-NN', KNeighborsRegressor(n_neighbors=2), X_train, y_train, X_test, y_test)"
   ],
   "metadata": {
    "collapsed": false,
    "ExecuteTime": {
     "end_time": "2024-06-14T18:01:46.239768Z",
     "start_time": "2024-06-14T18:01:46.188869Z"
    }
   },
   "id": "8e18ee578b422123",
   "outputs": [
    {
     "name": "stdout",
     "output_type": "stream",
     "text": [
      "Model: K-NN\n",
      "R^2: 0.6011\n",
      "MAE: 112057.1084\n",
      "MSE: 2678711175340.8379\n",
      "RMSE: 1636676.8696\n",
      "\n"
     ]
    }
   ],
   "execution_count": 10
  },
  {
   "cell_type": "code",
   "source": [
    "\n",
    "models['Decision Tree'] = evaluate_model('Decision Tree', DecisionTreeRegressor(), X_train, y_train, X_test, y_test)"
   ],
   "metadata": {
    "collapsed": false,
    "ExecuteTime": {
     "end_time": "2024-06-14T18:01:46.295002Z",
     "start_time": "2024-06-14T18:01:46.241773Z"
    }
   },
   "id": "8cfca374f027ef4e",
   "outputs": [
    {
     "name": "stdout",
     "output_type": "stream",
     "text": [
      "Model: Decision Tree\n",
      "R^2: 0.1738\n",
      "MAE: 141167.3984\n",
      "MSE: 5548672128032.6436\n",
      "RMSE: 2355561.9559\n",
      "\n"
     ]
    }
   ],
   "execution_count": 11
  },
  {
   "cell_type": "code",
   "source": [
    "\n",
    "models['Random Forest'] = evaluate_model('Random Forest', RandomForestRegressor(n_estimators=200), X_train, y_train, X_test, y_test)"
   ],
   "metadata": {
    "collapsed": false,
    "ExecuteTime": {
     "end_time": "2024-06-14T18:02:00.757733Z",
     "start_time": "2024-06-14T18:01:53.989860Z"
    }
   },
   "id": "ebd6880d69f262ba",
   "outputs": [
    {
     "name": "stdout",
     "output_type": "stream",
     "text": [
      "Model: Random Forest\n",
      "R^2: 0.5911\n",
      "MAE: 117318.8304\n",
      "MSE: 2745695534807.4575\n",
      "RMSE: 1657014.0418\n",
      "\n"
     ]
    }
   ],
   "execution_count": 13
  },
  {
   "cell_type": "code",
   "source": [
    "\n",
    "models['Neural Network (single layer)'] = evaluate_model('Neural Network (single layer)', MLPRegressor(hidden_layer_sizes=(10000,), max_iter=10000), X_train, y_train, X_test, y_test)"
   ],
   "metadata": {
    "collapsed": false,
    "ExecuteTime": {
     "end_time": "2024-06-14T18:03:04.945812Z",
     "start_time": "2024-06-14T18:02:00.758739Z"
    }
   },
   "id": "84380a440879fb40",
   "outputs": [
    {
     "name": "stdout",
     "output_type": "stream",
     "text": [
      "Model: Neural Network (single layer)\n",
      "R^2: 0.7561\n",
      "MAE: 95758.5170\n",
      "MSE: 1638270207780.2100\n",
      "RMSE: 1279949.2989\n",
      "\n"
     ]
    }
   ],
   "execution_count": 14
  },
  {
   "cell_type": "code",
   "source": [
    "\n",
    "models['Neural Network (multi layer)'] = evaluate_model('Neural Network (multi layer)', MLPRegressor(hidden_layer_sizes=(100, 50), max_iter=10000), X_train, y_train, X_test, y_test)"
   ],
   "metadata": {
    "collapsed": false,
    "ExecuteTime": {
     "end_time": "2024-06-14T18:03:07.675715Z",
     "start_time": "2024-06-14T18:03:04.949817Z"
    }
   },
   "id": "46050bcb3ef4277f",
   "outputs": [
    {
     "name": "stdout",
     "output_type": "stream",
     "text": [
      "Model: Neural Network (multi layer)\n",
      "R^2: 0.7587\n",
      "MAE: 95983.7586\n",
      "MSE: 1620665511536.3413\n",
      "RMSE: 1273053.6169\n",
      "\n"
     ]
    }
   ],
   "execution_count": 15
  },
  {
   "cell_type": "code",
   "source": [
    "'''\n",
    "\n",
    "def preprocess_new_app(new_app):\n",
    "    # Verificar se new_app é um DataFrame, se não, converter para DataFrame\n",
    "    if not isinstance(new_app, pd.DataFrame):\n",
    "        new_app = pd.DataFrame([new_app], columns=X.columns)\n",
    "\n",
    "    # Preencher valores ausentes na nova aplicação\n",
    "    handle_missing_values(new_app)\n",
    "\n",
    "    # Tratar a coluna 'Size'\n",
    "    new_app['Size'] = new_app['Size'].apply(size_to_mb)\n",
    "\n",
    "    # Tratar a coluna 'Minimum Android'\n",
    "    new_app['Minimum Android'] = new_app['Minimum Android'].apply(parse_android_version)\n",
    "    new_app['Minimum Android'] = [int(x * 10) / 10 for x in new_app['Minimum Android']]\n",
    "\n",
    "    # Codificar variáveis categóricas\n",
    "    new_app['Category'] = new_app['Category'].apply(lambda x: category_mapping.get(x, -1))\n",
    "    new_app['Content Rating'] = new_app['Content Rating'].apply(lambda x: content_mapping.get(x, -1))\n",
    "\n",
    "    # Verificar se há valores não reconhecidos e substituí-los por uma categoria válida (opcional)\n",
    "    new_app['Category'] = new_app['Category'].replace(-1, category_mapping['Tools'])\n",
    "    new_app['Content Rating'] = new_app['Content Rating'].replace(-1, content_mapping['Everyone'])\n",
    "\n",
    "    # Aplicar PCA para redução de dimensionalidade\n",
    "    new_app_reduced = pca.transform(new_app)\n",
    "\n",
    "    return new_app_reduced\n",
    "\n",
    "\n",
    "def predict_installs(new_app_data):\n",
    "    # Pré-processar os dados da nova aplicação\n",
    "    new_app_processed = preprocess_new_app(new_app_data)\n",
    "\n",
    "    # Previsões para cada modelo\n",
    "    predictions = {}\n",
    "    for model_name, model in models.items():\n",
    "        prediction = model.predict(new_app_processed)\n",
    "        predictions[model_name] = prediction[0]\n",
    "\n",
    "    # Imprimir previsões\n",
    "    for model_name, prediction in predictions.items():\n",
    "        print(f\"{model_name}: {prediction:.0f} installs\")\n",
    "\n",
    "\n",
    "# Exemplo de dados de uma nova aplicação\n",
    "new_app_example = {\n",
    "    'Category': 33,  # Exemplo de categoria\n",
    "    'Rating': 4.3,  # Exemplo de avaliação\n",
    "    'Rating Count': 241000,  # Exemplo de contagem de avaliações\n",
    "    'Free': True,  # Se a aplicação é gratuita ou não\n",
    "    'Price': 0.0,  # Preço da aplicação\n",
    "    'Size': 3,  # Tamanho da aplicação\n",
    "    'Minimum Android': 10,  # Versão mínima do Android\n",
    "    'Content Rating': 0,  # Classificação de conteúdo\n",
    "    'Ad Supported': False,  # Se a aplicação tem suporte a anúncios\n",
    "    'In App Purchases': True,  # Se a aplicação tem compras no aplicativo\n",
    "    'Editors Choice': True  # Se a aplicação é escolha do editor\n",
    "}\n",
    "\n",
    "# Converter exemplo de nova aplicação para DataFrame\n",
    "new_app_df = pd.DataFrame([new_app_example])\n",
    "\n",
    "# Prever o número de instalações para a nova aplicação\n",
    "predict_installs(new_app_df)'''\n",
    "import pandas as pd\n",
    "#Carregar o ficheiro CSV da nova app\n",
    "new_app_df = pd.read_csv('new_app_example.csv') \n",
    "\n",
    "\n",
    "#Remover colunas não presentes nos dados de treino\n",
    "new_app_df = new_app_df[X.columns]\n",
    "\n",
    "#Função para prever a variável alvo para uma nova app\n",
    "def predict_new_app(model, new_app_df):\n",
    "    # Prever a variável alvo\n",
    "    prediction = model.predict(new_app_df)\n",
    "    return prediction\n",
    "\n",
    "#Fazer a previsão utilizando o pipeline treinado anteriormente\n",
    "\n",
    "for name, model in models.items():\n",
    "    prediction = predict_new_app(model, new_app_df)\n",
    "    print(f\"Previsão de 'Installs' com {name} para a nova app 'Gemini': {prediction[0]:.0f}\")\n",
    "#Imprimir tamanho do dataframe\n",
    "print(\"Tamanho atual do dataframe:\", data.shape)"
   ],
   "metadata": {
    "collapsed": true,
    "ExecuteTime": {
     "end_time": "2024-06-14T18:03:08.418688Z",
     "start_time": "2024-06-14T18:03:07.682712Z"
    }
   },
   "id": "initial_id",
   "outputs": [
    {
     "name": "stdout",
     "output_type": "stream",
     "text": [
      "Previsão de 'Installs' com Linear Regression para a nova app 'Gemini': 10572820\n",
      "Previsão de 'Installs' com Ridge Regression para a nova app 'Gemini': 11276003\n",
      "Previsão de 'Installs' com Lasso Regression para a nova app 'Gemini': 10574952\n",
      "Previsão de 'Installs' com Logistic Regression para a nova app 'Gemini': 10000000\n",
      "Previsão de 'Installs' com SVR (linear kernel) para a nova app 'Gemini': 8219700\n",
      "Previsão de 'Installs' com SVR (rbf kernel) para a nova app 'Gemini': 578\n",
      "Previsão de 'Installs' com K-NN para a nova app 'Gemini': 7500000\n",
      "Previsão de 'Installs' com Decision Tree para a nova app 'Gemini': 10000000\n",
      "Previsão de 'Installs' com K_Means para a nova app 'Gemini': 2\n",
      "Previsão de 'Installs' com Random Forest para a nova app 'Gemini': 7420000\n",
      "Previsão de 'Installs' com Neural Network (single layer) para a nova app 'Gemini': 12675174\n",
      "Previsão de 'Installs' com Neural Network (multi layer) para a nova app 'Gemini': 13108617\n",
      "Tamanho atual do dataframe: (7999, 12)\n"
     ]
    }
   ],
   "execution_count": 16
  },
  {
   "cell_type": "code",
   "source": "",
   "metadata": {
    "collapsed": false,
    "ExecuteTime": {
     "end_time": "2024-06-14T18:03:08.425187Z",
     "start_time": "2024-06-14T18:03:08.420693Z"
    }
   },
   "id": "d8eb3dc40d6c7a3f",
   "outputs": [],
   "execution_count": 16
  },
  {
   "cell_type": "code",
   "source": [],
   "metadata": {
    "collapsed": false,
    "ExecuteTime": {
     "end_time": "2024-06-14T18:03:08.433074Z",
     "start_time": "2024-06-14T18:03:08.428193Z"
    }
   },
   "id": "6b62ec454db15bdc",
   "outputs": [],
   "execution_count": 16
  }
 ],
 "metadata": {
  "kernelspec": {
   "display_name": "Python 3",
   "language": "python",
   "name": "python3"
  },
  "language_info": {
   "codemirror_mode": {
    "name": "ipython",
    "version": 2
   },
   "file_extension": ".py",
   "mimetype": "text/x-python",
   "name": "python",
   "nbconvert_exporter": "python",
   "pygments_lexer": "ipython2",
   "version": "2.7.6"
  }
 },
 "nbformat": 4,
 "nbformat_minor": 5
}
