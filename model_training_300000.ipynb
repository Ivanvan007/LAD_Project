{
 "cells": [
  {
   "cell_type": "code",
   "id": "ae3d6661f054b6ee",
   "metadata": {
    "collapsed": true,
    "ExecuteTime": {
     "end_time": "2024-06-15T13:41:59.790831Z",
     "start_time": "2024-06-15T13:41:46.936165Z"
    }
   },
   "source": [
    "import pandas as pd\n",
    "import numpy as np\n",
    "from sklearn.model_selection import train_test_split\n",
    "from sklearn.linear_model import LinearRegression, Ridge, Lasso, LogisticRegression\n",
    "from sklearn.cluster import KMeans\n",
    "from sklearn.metrics import r2_score, mean_absolute_error, mean_squared_error\n",
    "from sklearn.preprocessing import StandardScaler, OneHotEncoder, LabelEncoder\n",
    "from sklearn.compose import ColumnTransformer\n",
    "from sklearn.pipeline import Pipeline\n",
    "from sklearn.impute import SimpleImputer\n",
    "from sklearn.svm import SVR\n",
    "from sklearn.neighbors import KNeighborsRegressor\n",
    "from sklearn.tree import DecisionTreeRegressor, plot_tree, export_graphviz\n",
    "from sklearn.ensemble import RandomForestRegressor\n",
    "from sklearn.neural_network import MLPRegressor\n",
    "from sklearn.decomposition import PCA\n",
    "import matplotlib.pyplot as plt\n",
    "import os\n",
    "import joblib\n",
    "\n",
    "# Carregar o dataset\n",
    "data = pd.read_csv('Data/Google-Playstore.csv', nrows=300000)\n",
    "\n",
    "# Remover colunas indesejadas\n",
    "data = data.drop(['App Name', 'App Id', 'Minimum Installs', 'Maximum Installs', 'Currency',\n",
    "                  'Developer Id', 'Developer Website', 'Developer Email', 'Released',\n",
    "                  'Last Updated', 'Privacy Policy', 'Scraped Time'], axis=1)\n",
    "\n",
    "# Remover linhas onde a variável alvo 'Installs' é nula\n",
    "data = data.dropna(subset=['Installs'])\n",
    "\n",
    "# Tratar a coluna 'Installs'\n",
    "data['Installs'] = data['Installs'].str.replace('[+,]', '', regex=True)\n",
    "data['Installs'] = pd.to_numeric(data['Installs'], errors='coerce').astype('Int64')\n",
    "\n",
    "def handle_missing_values(df):\n",
    "    df['Category'].fillna(df['Category'].mode()[0], inplace=True)\n",
    "    df['Rating'].fillna(df['Rating'].mean(), inplace=True)\n",
    "    df['Rating Count'].fillna(df['Rating Count'].mean(), inplace=True)\n",
    "    df['Free'].fillna(True, inplace=True)\n",
    "    df['Price'].fillna(0.0, inplace=True)\n",
    "    df['Size'] = df['Size'].apply(size_to_mb)\n",
    "    df['Size'].fillna(df['Size'].mean(), inplace=True)\n",
    "    df['Minimum Android'].fillna(df['Minimum Android'].mode()[0], inplace=True)\n",
    "    df['Content Rating'].fillna(df['Content Rating'].mode()[0], inplace=True)\n",
    "    df['Ad Supported'].fillna(True, inplace=True)\n",
    "    df['In App Purchases'].fillna(False, inplace=True)\n",
    "    df['Editors Choice'].fillna(False, inplace=True)\n",
    "\n",
    "def size_to_mb(size):\n",
    "    if pd.isna(size):\n",
    "        return np.nan\n",
    "    if isinstance(size, str):\n",
    "        if 'M' in size or 'm' in size:\n",
    "            return float(size.replace('M', '').replace('m', '').replace(',', '.'))\n",
    "        elif 'K' in size or 'k' in size:\n",
    "            return float(size.replace('K', '').replace('k', '').replace(',', '.')) / 1024\n",
    "        elif 'G' in size or 'g' in size:\n",
    "            return float(size.replace('G', '').replace('g', '').replace(',', '.')) * 1024\n",
    "    return np.nan\n",
    "\n",
    "def parse_android_version(version):\n",
    "    if pd.isna(version):\n",
    "        return np.nan\n",
    "    if 'Varies with device' in version:\n",
    "        return np.nan\n",
    "    if 'and up' in version:\n",
    "        version = version.replace('and up', '').strip()\n",
    "    if '-' in version:\n",
    "        version = version.split('-')[0].strip()\n",
    "    version = version.replace('W', '').strip()\n",
    "    try:\n",
    "        return float(version)\n",
    "    except ValueError:\n",
    "        return np.nan\n",
    "\n",
    "handle_missing_values(data)\n",
    "data['Minimum Android'] = data['Minimum Android'].apply(parse_android_version)\n",
    "mean_android_version = data['Minimum Android'].mean()\n",
    "data['Minimum Android'].fillna(mean_android_version, inplace=True)\n",
    "\n",
    "data['Rating Count'] = data['Rating Count'].astype(int)\n",
    "data['Minimum Android'] = [int(x * 10) / 10 for x in data['Minimum Android']]\n",
    "\n",
    "label_encoder_category = LabelEncoder()\n",
    "label_encoder_content_rating = LabelEncoder()\n",
    "data['Category'] = label_encoder_category.fit_transform(data['Category'])\n",
    "category_mapping = dict(zip(label_encoder_category.classes_, label_encoder_category.transform(label_encoder_category.classes_)))\n",
    "data['Content Rating'] = label_encoder_content_rating.fit_transform(data['Content Rating'])\n",
    "content_mapping = dict(zip(label_encoder_content_rating.classes_, label_encoder_content_rating.transform(label_encoder_content_rating.classes_)))\n",
    "\n",
    "# Preparação dos dados\n",
    "X = data[['Category', 'Rating','Rating Count', 'Free','Price','Size','Minimum Android','Content Rating', 'Ad Supported','In App Purchases','Editors Choice']]\n",
    "y = data['Installs']\n",
    "\n",
    "# Dividir o dataset em treino e teste\n",
    "X_train, X_test, y_train, y_test = train_test_split(X, y, test_size=0.2, random_state=42)\n",
    "\n",
    "# Função para avaliar o modelo\n",
    "def evaluate_model(name, model, X_train, y_train, X_test, y_test):\n",
    "    model.fit(X_train, y_train)\n",
    "    y_pred = model.predict(X_test)\n",
    "    r2 = r2_score(y_test, y_pred)\n",
    "    mae = mean_absolute_error(y_test, y_pred)\n",
    "    mse = mean_squared_error(y_test, y_pred)\n",
    "    rmse = np.sqrt(mse)\n",
    "    print(f\"Model: {name}\")\n",
    "    print(f\"R^2: {r2:.4f}\")\n",
    "    print(f\"MAE: {mae:.4f}\")\n",
    "    print(f\"MSE: {mse:.4f}\")\n",
    "    print(f\"RMSE: {rmse:.4f}\\n\")\n",
    "    return model"
   ],
   "outputs": [],
   "execution_count": 1
  },
  {
   "metadata": {
    "ExecuteTime": {
     "end_time": "2024-06-15T13:41:59.802981Z",
     "start_time": "2024-06-15T13:41:59.797147Z"
    }
   },
   "cell_type": "code",
   "source": [
    "models = {}"
   ],
   "id": "565be55f18907272",
   "outputs": [],
   "execution_count": 2
  },
  {
   "metadata": {
    "ExecuteTime": {
     "end_time": "2024-06-15T13:42:00.094172Z",
     "start_time": "2024-06-15T13:41:59.806435Z"
    }
   },
   "cell_type": "code",
   "source": [
    "models['Linear Regression'] = evaluate_model('Linear Regression', LinearRegression(), X_train, y_train, X_test, y_test)"
   ],
   "id": "dc450a653414eb8d",
   "outputs": [
    {
     "name": "stdout",
     "output_type": "stream",
     "text": [
      "Model: Linear Regression\n",
      "R^2: -6.3836\n",
      "MAE: 278280.5324\n",
      "MSE: 173408452882408.8125\n",
      "RMSE: 13168464.3327\n"
     ]
    }
   ],
   "execution_count": 3
  },
  {
   "metadata": {
    "ExecuteTime": {
     "end_time": "2024-06-15T13:42:00.175102Z",
     "start_time": "2024-06-15T13:42:00.096394Z"
    }
   },
   "cell_type": "code",
   "source": [
    "models['Ridge Regression'] = evaluate_model('Ridge Regression', Ridge(alpha=1.0), X_train, y_train, X_test, y_test)"
   ],
   "id": "9860446b3149716",
   "outputs": [
    {
     "name": "stdout",
     "output_type": "stream",
     "text": [
      "Model: Ridge Regression\n",
      "R^2: -6.3833\n",
      "MAE: 278259.0369\n",
      "MSE: 173402341598017.6875\n",
      "RMSE: 13168232.2883\n"
     ]
    }
   ],
   "execution_count": 4
  },
  {
   "metadata": {
    "ExecuteTime": {
     "end_time": "2024-06-15T13:42:00.403594Z",
     "start_time": "2024-06-15T13:42:00.178341Z"
    }
   },
   "cell_type": "code",
   "source": [
    "models['Lasso Regression'] = evaluate_model('Lasso Regression', Lasso(alpha=1.0), X_train, y_train, X_test, y_test)"
   ],
   "id": "d927e3cc01faff57",
   "outputs": [
    {
     "name": "stdout",
     "output_type": "stream",
     "text": [
      "Model: Lasso Regression\n",
      "R^2: -6.3835\n",
      "MAE: 278276.9927\n",
      "MSE: 173407955763035.4688\n",
      "RMSE: 13168445.4573\n"
     ]
    }
   ],
   "execution_count": 5
  },
  {
   "metadata": {
    "ExecuteTime": {
     "end_time": "2024-06-15T13:42:00.409783Z",
     "start_time": "2024-06-15T13:42:00.405125Z"
    }
   },
   "cell_type": "code",
   "source": [
    "#models['Logistic Regression'] = evaluate_model('Logistic Regression', LogisticRegression(), X_train, y_train, X_test, y_test)"
   ],
   "id": "c2ba29faa76d070f",
   "outputs": [],
   "execution_count": 6
  },
  {
   "metadata": {
    "ExecuteTime": {
     "end_time": "2024-06-15T13:42:00.426520Z",
     "start_time": "2024-06-15T13:42:00.411808Z"
    }
   },
   "cell_type": "code",
   "source": [
    "'''models['SVR (linear kernel)'] = evaluate_model('SVR (linear kernel)', SVR(kernel='linear'), X_train, y_train, X_test, y_test)'''"
   ],
   "id": "2c2fdb8aa806538a",
   "outputs": [
    {
     "data": {
      "text/plain": "\"models['SVR (linear kernel)'] = evaluate_model('SVR (linear kernel)', SVR(kernel='linear'), X_train, y_train, X_test, y_test)\""
     },
     "execution_count": 7,
     "metadata": {},
     "output_type": "execute_result"
    }
   ],
   "execution_count": 7
  },
  {
   "metadata": {
    "ExecuteTime": {
     "end_time": "2024-06-15T13:42:00.435702Z",
     "start_time": "2024-06-15T13:42:00.428541Z"
    }
   },
   "cell_type": "code",
   "source": [
    "'''models['SVR (rbf kernel)'] = evaluate_model('SVR (rbf kernel)', SVR(kernel='rbf'), X_train, y_train, X_test, y_test)'''"
   ],
   "id": "1619f4191d77970a",
   "outputs": [
    {
     "data": {
      "text/plain": "\"models['SVR (rbf kernel)'] = evaluate_model('SVR (rbf kernel)', SVR(kernel='rbf'), X_train, y_train, X_test, y_test)\""
     },
     "execution_count": 8,
     "metadata": {},
     "output_type": "execute_result"
    }
   ],
   "execution_count": 8
  },
  {
   "metadata": {
    "ExecuteTime": {
     "end_time": "2024-06-15T13:42:07.389613Z",
     "start_time": "2024-06-15T13:42:00.437719Z"
    }
   },
   "cell_type": "code",
   "source": [
    "models['K-NN'] = evaluate_model('K-NN', KNeighborsRegressor(n_neighbors=2), X_train, y_train, X_test, y_test)"
   ],
   "id": "c0fcf2a7b9f12b0e",
   "outputs": [
    {
     "name": "stdout",
     "output_type": "stream",
     "text": [
      "Model: K-NN\n",
      "R^2: -4.8741\n",
      "MAE: 186059.5251\n",
      "MSE: 137957325080175.5156\n",
      "RMSE: 11745523.6188\n"
     ]
    }
   ],
   "execution_count": 9
  },
  {
   "metadata": {
    "ExecuteTime": {
     "end_time": "2024-06-15T13:42:10.052689Z",
     "start_time": "2024-06-15T13:42:07.393481Z"
    }
   },
   "cell_type": "code",
   "source": [
    "models['Decision Tree'] = evaluate_model('Decision Tree', DecisionTreeRegressor(), X_train, y_train, X_test, y_test)"
   ],
   "id": "9205964e700d09ca",
   "outputs": [
    {
     "name": "stdout",
     "output_type": "stream",
     "text": [
      "Model: Decision Tree\n",
      "R^2: 0.1911\n",
      "MAE: 118169.0062\n",
      "MSE: 18996640266565.2852\n",
      "RMSE: 4358513.5386\n"
     ]
    }
   ],
   "execution_count": 10
  },
  {
   "metadata": {
    "ExecuteTime": {
     "end_time": "2024-06-15T13:42:10.064858Z",
     "start_time": "2024-06-15T13:42:10.059267Z"
    }
   },
   "cell_type": "code",
   "source": [
    "#models['K_Means'] = evaluate_model('K_Means', KMeans(n_clusters=4), X_train, y_train, X_test, y_test)"
   ],
   "id": "5eb5cff61577bf46",
   "outputs": [],
   "execution_count": 11
  },
  {
   "metadata": {
    "ExecuteTime": {
     "end_time": "2024-06-15T13:48:04.235763Z",
     "start_time": "2024-06-15T13:42:10.069831Z"
    }
   },
   "cell_type": "code",
   "source": [
    "models['Random Forest'] = evaluate_model('Random Forest', RandomForestRegressor(n_estimators=200), X_train, y_train, X_test, y_test)"
   ],
   "id": "838154fc688e9471",
   "outputs": [
    {
     "name": "stdout",
     "output_type": "stream",
     "text": [
      "Model: Random Forest\n",
      "R^2: 0.5135\n",
      "MAE: 108260.4659\n",
      "MSE: 11425000026414.1270\n",
      "RMSE: 3380088.7601\n"
     ]
    }
   ],
   "execution_count": 12
  },
  {
   "metadata": {
    "ExecuteTime": {
     "end_time": "2024-06-15T14:03:06.086545Z",
     "start_time": "2024-06-15T13:48:04.239780Z"
    }
   },
   "cell_type": "code",
   "source": [
    "models['Neural Network (single layer)'] = evaluate_model('Neural Network (single layer)', MLPRegressor(hidden_layer_sizes=(10000,), max_iter=10000), X_train, y_train, X_test, y_test)"
   ],
   "id": "cfd6142a7b659ce5",
   "outputs": [
    {
     "name": "stdout",
     "output_type": "stream",
     "text": [
      "Model: Neural Network (single layer)\n",
      "R^2: -13.3247\n",
      "MAE: 190096.4192\n",
      "MSE: 336426162712126.7500\n",
      "RMSE: 18341923.6372\n"
     ]
    }
   ],
   "execution_count": 13
  },
  {
   "metadata": {
    "ExecuteTime": {
     "end_time": "2024-06-15T14:10:38.468261Z",
     "start_time": "2024-06-15T14:03:06.093161Z"
    }
   },
   "cell_type": "code",
   "source": [
    "models['Neural Network (multi layer)'] = evaluate_model('Neural Network (multi layer)', MLPRegressor(hidden_layer_sizes=(100, 50), max_iter=10000), X_train, y_train, X_test, y_test)"
   ],
   "id": "70de9a4c8fd21dd1",
   "outputs": [
    {
     "name": "stdout",
     "output_type": "stream",
     "text": [
      "Model: Neural Network (multi layer)\n",
      "R^2: -3.9417\n",
      "MAE: 138326.6355\n",
      "MSE: 116058885181979.2344\n",
      "RMSE: 10773062.9434\n"
     ]
    }
   ],
   "execution_count": 14
  },
  {
   "metadata": {
    "ExecuteTime": {
     "end_time": "2024-06-15T14:10:38.477376Z",
     "start_time": "2024-06-15T14:10:38.471806Z"
    }
   },
   "cell_type": "code",
   "source": [
    "# Salvar os modelos e os mapeamentos\n",
    "# joblib.dump(models, 'models.pkl')\n",
    "# joblib.dump(label_encoder_category, 'label_encoder_category.pkl')\n",
    "# joblib.dump(label_encoder_content_rating, 'label_encoder_content_rating.pkl')\n",
    "# joblib.dump(category_mapping, 'category_mapping.pkl')\n",
    "# joblib.dump(content_mapping, 'content_mapping.pkl')\n",
    "# \n",
    "# print(\"Modelos e mapeamentos salvos com sucesso.\")\n"
   ],
   "id": "initial_id",
   "outputs": [],
   "execution_count": 15
  },
  {
   "metadata": {
    "ExecuteTime": {
     "end_time": "2024-06-15T14:10:38.494550Z",
     "start_time": "2024-06-15T14:10:38.480385Z"
    }
   },
   "cell_type": "code",
   "source": [
    "'''import numpy as np\n",
    "import matplotlib.pyplot as plt\n",
    "from sklearn.metrics import mean_squared_error\n",
    "\n",
    "# Gerar gráfico de barras horizontais com os valores de RMSE obtidos para cada um dos modelos\n",
    "rmse_values = {name: np.sqrt(mean_squared_error(y_test, model.predict(X_test))) for name, model in models.items()}\n",
    "\n",
    "plt.figure(figsize=(10, 5))\n",
    "bars = plt.barh(list(rmse_values.keys()), list(rmse_values.values()))\n",
    "#Título do gráfico\n",
    "plt.title('RMSE para cada modelo')\n",
    "plt.xlabel('RMSE')\n",
    "plt.ylabel('Modelos')\n",
    "\n",
    "# Adicionar os valores de RMSE no final de cada barra\n",
    "for bar in bars:\n",
    "    width = bar.get_width()\n",
    "    plt.text(width, bar.get_y() + bar.get_height() / 2.0, f'{width:.2f}', ha='left', va='center')\n",
    "\n",
    "plt.show()'''\n"
   ],
   "id": "47fef7a7c55b1f07",
   "outputs": [
    {
     "data": {
      "text/plain": "\"import numpy as np\\nimport matplotlib.pyplot as plt\\nfrom sklearn.metrics import mean_squared_error\\n\\n# Gerar gráfico de barras horizontais com os valores de RMSE obtidos para cada um dos modelos\\nrmse_values = {name: np.sqrt(mean_squared_error(y_test, model.predict(X_test))) for name, model in models.items()}\\n\\nplt.figure(figsize=(10, 5))\\nbars = plt.barh(list(rmse_values.keys()), list(rmse_values.values()))\\n#Título do gráfico\\nplt.title('RMSE para cada modelo')\\nplt.xlabel('RMSE')\\nplt.ylabel('Modelos')\\n\\n# Adicionar os valores de RMSE no final de cada barra\\nfor bar in bars:\\n    width = bar.get_width()\\n    plt.text(width, bar.get_y() + bar.get_height() / 2.0, f'{width:.2f}', ha='left', va='center')\\n\\nplt.show()\""
     },
     "execution_count": 16,
     "metadata": {},
     "output_type": "execute_result"
    }
   ],
   "execution_count": 16
  }
 ],
 "metadata": {
  "kernelspec": {
   "display_name": "Python 3",
   "language": "python",
   "name": "python3"
  },
  "language_info": {
   "codemirror_mode": {
    "name": "ipython",
    "version": 2
   },
   "file_extension": ".py",
   "mimetype": "text/x-python",
   "name": "python",
   "nbconvert_exporter": "python",
   "pygments_lexer": "ipython2",
   "version": "2.7.6"
  }
 },
 "nbformat": 4,
 "nbformat_minor": 5
}
